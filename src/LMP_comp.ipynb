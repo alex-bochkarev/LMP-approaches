{
 "cells": [
  {
   "cell_type": "markdown",
   "metadata": {
    "toc": true
   },
   "source": [
    "<h1>Table of Contents<span class=\"tocSkip\"></span></h1>\n",
    "<div class=\"toc\"><ul class=\"toc-item\"><li><span><a href=\"#Discussion\" data-toc-modified-id=\"Discussion-1\"><span class=\"toc-item-num\">1&nbsp;&nbsp;</span>Discussion</a></span><ul class=\"toc-item\"><li><span><a href=\"#General-notes\" data-toc-modified-id=\"General-notes-1.1\"><span class=\"toc-item-num\">1.1&nbsp;&nbsp;</span>General notes</a></span></li><li><span><a href=\"#What-is-done-by-the-moment:\" data-toc-modified-id=\"What-is-done-by-the-moment:-1.2\"><span class=\"toc-item-num\">1.2&nbsp;&nbsp;</span>What is <strong>done</strong> by the moment:</a></span></li><li><span><a href=\"#Technical-questions\" data-toc-modified-id=\"Technical-questions-1.3\"><span class=\"toc-item-num\">1.3&nbsp;&nbsp;</span>Technical questions</a></span></li><li><span><a href=\"#Data-related-questions:\" data-toc-modified-id=\"Data-related-questions:-1.4\"><span class=\"toc-item-num\">1.4&nbsp;&nbsp;</span>Data-related questions:</a></span></li></ul></li><li><span><a href=\"#Headers----technical-section\" data-toc-modified-id=\"Headers----technical-section-2\"><span class=\"toc-item-num\">2&nbsp;&nbsp;</span>Headers -- technical section</a></span></li><li><span><a href=\"#A-3-node-test-case\" data-toc-modified-id=\"A-3-node-test-case-3\"><span class=\"toc-item-num\">3&nbsp;&nbsp;</span>A 3-node test case</a></span><ul class=\"toc-item\"><li><span><a href=\"#Case-description\" data-toc-modified-id=\"Case-description-3.1\"><span class=\"toc-item-num\">3.1&nbsp;&nbsp;</span>Case description</a></span></li><li><span><a href=\"#UC-Model-description\" data-toc-modified-id=\"UC-Model-description-3.2\"><span class=\"toc-item-num\">3.2&nbsp;&nbsp;</span>UC Model description</a></span></li><li><span><a href=\"#Model-solution\" data-toc-modified-id=\"Model-solution-3.3\"><span class=\"toc-item-num\">3.3&nbsp;&nbsp;</span>Model solution</a></span></li><li><span><a href=\"#Solution-analysis----prices\" data-toc-modified-id=\"Solution-analysis----prices-3.4\"><span class=\"toc-item-num\">3.4&nbsp;&nbsp;</span>Solution analysis -- prices</a></span></li></ul></li><li><span><a href=\"#An-one-node-test-case\" data-toc-modified-id=\"An-one-node-test-case-4\"><span class=\"toc-item-num\">4&nbsp;&nbsp;</span>An one-node test case</a></span><ul class=\"toc-item\"><li><span><a href=\"#Case-input-data\" data-toc-modified-id=\"Case-input-data-4.1\"><span class=\"toc-item-num\">4.1&nbsp;&nbsp;</span>Case input data</a></span></li><li><span><a href=\"#Data-structures\" data-toc-modified-id=\"Data-structures-4.2\"><span class=\"toc-item-num\">4.2&nbsp;&nbsp;</span>Data structures</a></span></li><li><span><a href=\"#Case-output-data-format\" data-toc-modified-id=\"Case-output-data-format-4.3\"><span class=\"toc-item-num\">4.3&nbsp;&nbsp;</span>Case output data format</a></span></li><li><span><a href=\"#Plain-LMP-case\" data-toc-modified-id=\"Plain-LMP-case-4.4\"><span class=\"toc-item-num\">4.4&nbsp;&nbsp;</span>Plain LMP case</a></span></li><li><span><a href=\"#IP-and-IP+-approaches\" data-toc-modified-id=\"IP-and-IP+-approaches-4.5\"><span class=\"toc-item-num\">4.5&nbsp;&nbsp;</span>IP and IP+ approaches</a></span><ul class=\"toc-item\"><li><span><a href=\"#Out-of-market-corrections-(OMC)----auxiliary-functions\" data-toc-modified-id=\"Out-of-market-corrections-(OMC)----auxiliary-functions-4.5.1\"><span class=\"toc-item-num\">4.5.1&nbsp;&nbsp;</span>Out-of-market corrections (OMC) -- auxiliary functions</a></span></li><li><span><a href=\"#Main-code-for-IP\" data-toc-modified-id=\"Main-code-for-IP-4.5.2\"><span class=\"toc-item-num\">4.5.2&nbsp;&nbsp;</span>Main code for IP</a></span></li><li><span><a href=\"#Main-code-for-IP+\" data-toc-modified-id=\"Main-code-for-IP+-4.5.3\"><span class=\"toc-item-num\">4.5.3&nbsp;&nbsp;</span>Main code for IP+</a></span></li></ul></li><li><span><a href=\"#Dual-Pricing-Algorithm\" data-toc-modified-id=\"Dual-Pricing-Algorithm-4.6\"><span class=\"toc-item-num\">4.6&nbsp;&nbsp;</span>Dual Pricing Algorithm</a></span></li><li><span><a href=\"#Extended-LMP\" data-toc-modified-id=\"Extended-LMP-4.7\"><span class=\"toc-item-num\">4.7&nbsp;&nbsp;</span>Extended LMP</a></span></li><li><span><a href=\"#VCG-mechanism-implementation\" data-toc-modified-id=\"VCG-mechanism-implementation-4.8\"><span class=\"toc-item-num\">4.8&nbsp;&nbsp;</span>VCG mechanism implementation</a></span><ul class=\"toc-item\"><li><span><a href=\"#VCG-with-Clarke-Pivot-Rule-(non-balanced,-payment-=-externality)\" data-toc-modified-id=\"VCG-with-Clarke-Pivot-Rule-(non-balanced,-payment-=-externality)-4.8.1\"><span class=\"toc-item-num\">4.8.1&nbsp;&nbsp;</span>VCG with Clarke Pivot Rule (non-balanced, payment = externality)</a></span></li></ul></li><li><span><a href=\"#Summary\" data-toc-modified-id=\"Summary-4.9\"><span class=\"toc-item-num\">4.9&nbsp;&nbsp;</span>Summary</a></span></li><li><span><a href=\"#Case-metrics\" data-toc-modified-id=\"Case-metrics-4.10\"><span class=\"toc-item-num\">4.10&nbsp;&nbsp;</span>Case metrics</a></span><ul class=\"toc-item\"><li><span><a href=\"#Price-vs.-out-of-market-corrections\" data-toc-modified-id=\"Price-vs.-out-of-market-corrections-4.10.1\"><span class=\"toc-item-num\">4.10.1&nbsp;&nbsp;</span>Price vs. out-of-market corrections</a></span></li><li><span><a href=\"#Welfare-distribution\" data-toc-modified-id=\"Welfare-distribution-4.10.2\"><span class=\"toc-item-num\">4.10.2&nbsp;&nbsp;</span>Welfare distribution</a></span></li></ul></li><li><span><a href=\"#Figures-for-one-node-case\" data-toc-modified-id=\"Figures-for-one-node-case-4.11\"><span class=\"toc-item-num\">4.11&nbsp;&nbsp;</span>Figures for one-node case</a></span></li></ul></li></ul></div>"
   ]
  },
  {
   "cell_type": "markdown",
   "metadata": {},
   "source": [
    "# Comparison of different approaches to LMP setting"
   ]
  },
  {
   "cell_type": "markdown",
   "metadata": {},
   "source": [
    "## Discussion\n",
    "### General notes\n",
    "- it is more or less clear how to \"unpack\" a network topology\n",
    "- the IEEE 1888 RTS test case is [here](https://www2.ee.washington.edu/research/pstca/pf118/pg_tca118bus.htm). I.e. the [data](https://www2.ee.washington.edu/research/pstca/pf118/ieee118cdf.txt) are available, as well as [short](https://www2.ee.washington.edu/research/pstca/formats/cdf.txt) and [long](https://ieeexplore.ieee.org/document/4075293/) format descriptions. Note that there are some discrepancies between the two, but we'll manage, they are not terrible.\n",
    "\n",
    "### What is **done** by the moment:\n",
    "- a simple [data-parser](./IEEE_CDF_parser.jl), including a helper-function to unpack a Node-incidence matrix;\n",
    "- a simple model for the 3-node case just to test everything works as expected (in a more-than-one-node network);\n",
    "- a simple one-node case -- almost all the code is ported from python;\n",
    "   \n",
    "### Technical questions\n",
    "- do we allow for multiple agents in the same node?\n",
    "- difference between reduced cost(?) of variable and shadow price of constraint? (both are `getdual()`)\n",
    "\n",
    "### Data-related questions:\n",
    "- how do we cook up the missing data; most importantly, Pmax, Dmax and utilities? I can imagine we can assume for starters that $P_\\max = P_\\text{actual}$ from the data file and the same logic for the demand. Maybe later we'll want to assume it is, say 20% more. What do we do with utilities? Is there any common practice for that? or just ensure it is high enough?\n",
    "- are we planning to visualize the data somehow? I mean, put numbers on a real network scheme? Is there any standard for that in the field?\n",
    "---"
   ]
  },
  {
   "cell_type": "markdown",
   "metadata": {},
   "source": [
    "## Headers -- technical section"
   ]
  },
  {
   "cell_type": "code",
   "execution_count": 1,
   "metadata": {},
   "outputs": [],
   "source": [
    "using JuMP\n",
    "using Cbc \n",
    "using Clp\n",
    "using DataFrames\n",
    "using DataFramesMeta\n",
    "\n",
    "import IEEE_CDF_parser # my data file parser, includes the NI matrix builder\n"
   ]
  },
  {
   "cell_type": "markdown",
   "metadata": {},
   "source": [
    "## A 3-node test case\n",
    "### Case description"
   ]
  },
  {
   "cell_type": "code",
   "execution_count": 2,
   "metadata": {},
   "outputs": [
    {
     "data": {
      "text/html": [
       "<table class=\"data-frame\"><thead><tr><th></th><th>Arc</th><th>TapBusNo</th><th>ZBusNo</th><th>x</th></tr></thead><tbody><tr><th>1</th><td>a</td><td>1</td><td>2</td><td>0.1</td></tr><tr><th>2</th><td>b</td><td>2</td><td>3</td><td>0.1</td></tr><tr><th>3</th><td>c</td><td>1</td><td>3</td><td>0.1</td></tr></tbody></table>"
      ],
      "text/plain": [
       "3×4 DataFrames.DataFrame\n",
       "│ Row │ Arc │ TapBusNo │ ZBusNo │ x   │\n",
       "├─────┼─────┼──────────┼────────┼─────┤\n",
       "│ 1   │ a   │ 1        │ 2      │ 0.1 │\n",
       "│ 2   │ b   │ 2        │ 3      │ 0.1 │\n",
       "│ 3   │ c   │ 1        │ 3      │ 0.1 │"
      ]
     },
     "execution_count": 2,
     "metadata": {},
     "output_type": "execute_result"
    }
   ],
   "source": [
    "# Cook up come simple test data\n",
    "# three-bus system\n",
    "buses = DataFrame(BusNo = [1,2,3], # bus number\n",
    "                  Pmin = [0,0,0], # min supply\n",
    "                  Pmax = [10,5,0], # max supply\n",
    "                  Dmax = [0,0,7], # max demand\n",
    "                  b = [0,0,50], # consumers' utility per kWh\n",
    "                  C = [5,3,0], # costs per kWh\n",
    "                  cSU = [0,0,0]) # startup costs\n",
    "\n",
    "branches = DataFrame(Arc = [\"a\",\"b\",\"c\"], TapBusNo = [1, 2, 1], ZBusNo = [2,3,3], x=[0.1,0.1,0.1])\n"
   ]
  },
  {
   "cell_type": "markdown",
   "metadata": {},
   "source": [
    "Test case:\n",
    "![A simple three-node examplez](img/3node.png)"
   ]
  },
  {
   "cell_type": "code",
   "execution_count": 3,
   "metadata": {},
   "outputs": [
    {
     "data": {
      "text/plain": [
       "3×3 Array{Float64,2}:\n",
       " -1.0   0.0  -1.0\n",
       "  1.0  -1.0   0.0\n",
       "  0.0   1.0   1.0"
      ]
     },
     "execution_count": 3,
     "metadata": {},
     "output_type": "execute_result"
    }
   ],
   "source": [
    "# Make a node-arc incidence matrix\n",
    "\n",
    "NIM = IEEE_CDF_parser.makeNIMatrix(size(buses,1), branches)"
   ]
  },
  {
   "cell_type": "markdown",
   "metadata": {},
   "source": [
    "### UC Model description"
   ]
  },
  {
   "cell_type": "code",
   "execution_count": 4,
   "metadata": {},
   "outputs": [
    {
     "data": {
      "text/latex": [
       "$$ \\begin{alignat*}{1}\\max\\quad & 50 d_{3} - 5 p_{1} - 3 p_{2}\\\\\n",
       "\\text{Subject to} \\quad & p_{1} - f_{1} - f_{3} - d_{1} = 0\\\\\n",
       " & p_{1} \\geq 0\\\\\n",
       " & p_{1} - 10 z_{1} \\leq 0\\\\\n",
       " & d_{1} \\leq 0\\\\\n",
       " & p_{2} + f_{1} - f_{2} - d_{2} = 0\\\\\n",
       " & p_{2} \\geq 0\\\\\n",
       " & p_{2} - 5 z_{2} \\leq 0\\\\\n",
       " & d_{2} \\leq 0\\\\\n",
       " & p_{3} + f_{2} + f_{3} - d_{3} = 0\\\\\n",
       " & p_{3} \\geq 0\\\\\n",
       " & p_{3} \\leq 0\\\\\n",
       " & d_{3} \\leq 7\\\\\n",
       " & f_{1} - 10 θ_{1} + 10 θ_{2} = 0\\\\\n",
       " & f_{2} - 10 θ_{2} + 10 θ_{3} = 0\\\\\n",
       " & f_{3} - 10 θ_{1} + 10 θ_{3} = 0\\\\\n",
       " & θ_{1} = 0\\\\\n",
       " & -100 \\leq f_{l} \\leq 100 \\quad\\forall l \\in \\{1,2,3\\}\\\\\n",
       " & 0 \\leq p_{i} \\leq 10 \\quad\\forall i \\in \\{1,2,3\\}\\\\\n",
       " & 0 \\leq d_{i} \\leq 7 \\quad\\forall i \\in \\{1,2,3\\}\\\\\n",
       " & -6.283185307179586 \\leq θ_{i} \\leq 6.283185307179586 \\quad\\forall i \\in \\{1,2,3\\}\\\\\n",
       " & z_{i} \\in \\{0,1\\} \\quad\\forall i \\in \\{1,2,3\\}\\\\\n",
       "\\end{alignat*}\n",
       " $$"
      ],
      "text/plain": [
       "Maximization problem with:\n",
       " * 16 linear constraints\n",
       " * 15 variables: 3 binary\n",
       "Solver is CbcMathProg"
      ]
     },
     "execution_count": 4,
     "metadata": {},
     "output_type": "execute_result"
    }
   ],
   "source": [
    "## ================== OPF model definition =====================\n",
    "UC = JuMP.Model(solver=CbcSolver())\n",
    "Nbus = size(buses,1)\n",
    "Nbranches = size(branches,1)\n",
    "\n",
    "# constants\n",
    "const Fmax = 100\n",
    "Pmax = maximum(buses[:,:Pmax])\n",
    "Dmax = maximum(buses[:,:Dmax])\n",
    "\n",
    "@variable(UC, -Fmax <= f[l=1:Nbranches] <= Fmax) # flow through each branch l \\in Branches\n",
    "@variable(UC, 0 <= p[i=1:Nbus] <= Pmax, Cont) # production\n",
    "@variable(UC, 0<= d[i=1:Nbus] <= Dmax) # consumption\n",
    "@variable(UC, -2*pi <= θ[i=1:Nbus] <= 2*pi) # phase angle\n",
    "@variable(UC, z[i=1:Nbus], Bin) # generators' commitment (binary)\n",
    "\n",
    "@constraintref flows[1:Nbus]\n",
    "\n",
    "for i=1:Nbus\n",
    "    flows[i] = @constraint(UC, p[i] + sum(NIM[i,l] * f[l] for l=1:Nbranches) == d[i]) # flow constraints\n",
    "    @constraint(UC, p[i] >= z[i]*buses[i,:Pmin]) # min production\n",
    "    @constraint(UC, p[i] <= z[i]*buses[i,:Pmax]) # max production\n",
    "\n",
    "    @constraint(UC, d[i] <= buses[i, :Dmax])\n",
    "end\n",
    "\n",
    "for i=1:Nbranches\n",
    "    @constraint(UC, f[i] == (1/branches[i,:x])*sum(-NIM[j,i]*θ[j] for j=1:Nbus)) # line flow expression, DC-approximation\n",
    "end\n",
    "\n",
    "@constraint(UC, θ[1] == 0) # slack node\n",
    "\n",
    "\n",
    "@objective(UC, :Max, sum(buses[i,:b]*d[i] for i=1:Nbus) - sum(buses[j,:C]*p[j]+buses[j,:cSU]*z[j] for j=1:Nbus))\n",
    "\n",
    "UC"
   ]
  },
  {
   "cell_type": "markdown",
   "metadata": {},
   "source": [
    "### Model solution"
   ]
  },
  {
   "cell_type": "code",
   "execution_count": 5,
   "metadata": {},
   "outputs": [
    {
     "name": "stdout",
     "output_type": "stream",
     "text": [
      "Objective value = 325.0\n",
      "Actual demand = [0.0, 0.0, 7.0]\n",
      "Supply = [2.0, 5.0, 0.0]\n",
      "Commitment flag = [1.0, 1.0, 0.0]\n",
      "theta = [0.0, 0.1, -0.3]\n",
      "flows = [-1.0, 4.0, 3.0]\n"
     ]
    }
   ],
   "source": [
    "status = solve(UC)\n",
    "println(\"Objective value = \", getobjectivevalue(UC))\n",
    "\n",
    "println(\"Actual demand = \", getvalue(d))\n",
    "println(\"Supply = \", getvalue(p))\n",
    "println(\"Commitment flag = \", getvalue(z))\n",
    "println(\"theta = \", getvalue(θ))\n",
    "println(\"flows = \", getvalue(f))"
   ]
  },
  {
   "cell_type": "markdown",
   "metadata": {},
   "source": [
    "### Solution analysis -- prices\n",
    "Now, let us fix the optimal commitments ($z$ 's) -- relax the integrality constraint and obtain prices in nodes."
   ]
  },
  {
   "cell_type": "code",
   "execution_count": 6,
   "metadata": {},
   "outputs": [
    {
     "data": {
      "text/plain": [
       "3-element Array{Float64,1}:\n",
       " 1.0\n",
       " 1.0\n",
       " 0.0"
      ]
     },
     "execution_count": 6,
     "metadata": {},
     "output_type": "execute_result"
    }
   ],
   "source": [
    "z_opt = getvalue(z)"
   ]
  },
  {
   "cell_type": "code",
   "execution_count": 7,
   "metadata": {
    "scrolled": true
   },
   "outputs": [
    {
     "data": {
      "text/latex": [
       "$$ \\begin{alignat*}{1}\\max\\quad & 50 d_{3} - 5 p_{1} - 3 p_{2}\\\\\n",
       "\\text{Subject to} \\quad & p_{1} - f_{1} - f_{3} - d_{1} = 0\\\\\n",
       " & p_{1} \\geq 0\\\\\n",
       " & p_{1} - 10 z_{1} \\leq 0\\\\\n",
       " & d_{1} \\leq 0\\\\\n",
       " & z_{1} = 1\\\\\n",
       " & p_{2} + f_{1} - f_{2} - d_{2} = 0\\\\\n",
       " & p_{2} \\geq 0\\\\\n",
       " & p_{2} - 5 z_{2} \\leq 0\\\\\n",
       " & d_{2} \\leq 0\\\\\n",
       " & z_{2} = 1\\\\\n",
       " & p_{3} + f_{2} + f_{3} - d_{3} = 0\\\\\n",
       " & p_{3} \\geq 0\\\\\n",
       " & p_{3} \\leq 0\\\\\n",
       " & d_{3} \\leq 7\\\\\n",
       " & z_{3} = 0\\\\\n",
       " & f_{1} - 10 θ_{1} + 10 θ_{2} = 0\\\\\n",
       " & f_{2} - 10 θ_{2} + 10 θ_{3} = 0\\\\\n",
       " & f_{3} - 10 θ_{1} + 10 θ_{3} = 0\\\\\n",
       " & θ_{1} = 0\\\\\n",
       " & -100 \\leq f_{l} \\leq 100 \\quad\\forall l \\in \\{1,2,3\\}\\\\\n",
       " & 0 \\leq p_{i} \\leq 10 \\quad\\forall i \\in \\{1,2,3\\}\\\\\n",
       " & 0 \\leq d_{i} \\leq 7 \\quad\\forall i \\in \\{1,2,3\\}\\\\\n",
       " & -6.283185307179586 \\leq θ_{i} \\leq 6.283185307179586 \\quad\\forall i \\in \\{1,2,3\\}\\\\\n",
       " & 0 \\leq z_{i} \\leq 1 \\quad\\forall i \\in \\{1,2,3\\}\\\\\n",
       "\\end{alignat*}\n",
       " $$"
      ],
      "text/plain": [
       "Maximization problem with:\n",
       " * 19 linear constraints\n",
       " * 15 variables\n",
       "Solver is ClpMathProg"
      ]
     },
     "execution_count": 7,
     "metadata": {},
     "output_type": "execute_result"
    }
   ],
   "source": [
    "## ================== OPF model definition =====================\n",
    "UClp = JuMP.Model(solver=ClpSolver())\n",
    "Nbus = size(buses,1)\n",
    "Nbranches = size(branches,1)\n",
    "\n",
    "# constants\n",
    "const Fmax = 100\n",
    "Pmax = maximum(buses[:,:Pmax])\n",
    "Dmax = maximum(buses[:,:Dmax])\n",
    "\n",
    "@variable(UClp, -Fmax <= f[l=1:Nbranches] <= Fmax) # flow through each branch l \\in Branches\n",
    "@variable(UClp, 0 <= p[i=1:Nbus] <= Pmax, Cont) # production\n",
    "@variable(UClp, 0<= d[i=1:Nbus] <= Dmax) # consumption\n",
    "@variable(UClp, -2*pi <= θ[i=1:Nbus] <= 2*pi) # phase angle\n",
    "@variable(UClp, 0<= z[i=1:Nbus]<=1) # generators' commitment (not binary anymore)\n",
    "\n",
    "@constraintref flows[1:Nbus]\n",
    "\n",
    "for i=1:Nbus\n",
    "    flows[i] = @constraint(UClp, p[i] + sum(NIM[i,l] * f[l] for l=1:Nbranches) == d[i]) # flow constraints\n",
    "    @constraint(UClp, p[i] >= z[i]*buses[i,:Pmin]) # min production\n",
    "    @constraint(UClp, p[i] <= z[i]*buses[i,:Pmax]) # max production\n",
    "    @constraint(UClp, d[i] <= buses[i, :Dmax])\n",
    "    @constraint(UClp, z[i] == z_opt[i])\n",
    "end\n",
    "\n",
    "for i=1:Nbranches\n",
    "    @constraint(UClp, f[i] == (1/branches[i,:x])*sum(-NIM[j,i]*θ[j] for j=1:Nbus)) # line flow expression, DC-approximation\n",
    "end\n",
    "\n",
    "@constraint(UClp, θ[1] == 0) # slack node\n",
    "\n",
    "\n",
    "@objective(UClp, :Max, sum(buses[i,:b]*d[i] for i=1:Nbus) - sum(buses[j,:C]*p[j]+buses[j,:cSU]*z[j] for j=1:Nbus))\n",
    "\n",
    "UClp"
   ]
  },
  {
   "cell_type": "code",
   "execution_count": 8,
   "metadata": {},
   "outputs": [
    {
     "name": "stdout",
     "output_type": "stream",
     "text": [
      "Objective value = 325.0\n",
      "Actual demand = [0.0, 0.0, 7.0]\n",
      "Supply = [2.0, 5.0, 0.0]\n",
      "Commitment flag = [1.0, 1.0, 0.0]\n",
      "theta = [-0.0, 0.1, -0.3]\n",
      "flows = [-1.0, 4.0, 3.0]\n",
      "Prices = [5.0, 5.0, 5.0]\n"
     ]
    }
   ],
   "source": [
    "status = solve(UClp)\n",
    "println(\"Objective value = \", getobjectivevalue(UC))\n",
    "\n",
    "println(\"Actual demand = \", getvalue(d))\n",
    "println(\"Supply = \", getvalue(p))\n",
    "println(\"Commitment flag = \", getvalue(z))\n",
    "println(\"theta = \", getvalue(θ))\n",
    "println(\"flows = \", getvalue(f))\n",
    "\n",
    "println(\"Prices = \", -getdual(flows))"
   ]
  },
  {
   "cell_type": "markdown",
   "metadata": {},
   "source": [
    "## An one-node test case\n",
    "Porting the code from Python"
   ]
  },
  {
   "cell_type": "markdown",
   "metadata": {},
   "source": [
    "### Case input data"
   ]
  },
  {
   "cell_type": "code",
   "execution_count": 9,
   "metadata": {},
   "outputs": [],
   "source": [
    "# Generators\n",
    "Gnames = [\"A\",\"B\"];\n",
    "cSU = [500;500];\n",
    "Pmin = [0;10]; \n",
    "Pmax = [40;200];\n",
    "c = [40,60];\n",
    "Ngen = size(Gnames,1)\n",
    "\n",
    "# Consumers\n",
    "Cnames = [\"1\",\"2\"];\n",
    "D = [0,1]; \n",
    "b = [100,61];\n",
    "Dmax = [100,30];\n",
    "Ncons = size(Cnames,1);"
   ]
  },
  {
   "cell_type": "markdown",
   "metadata": {},
   "source": [
    "### Data structures"
   ]
  },
  {
   "cell_type": "code",
   "execution_count": 10,
   "metadata": {},
   "outputs": [
    {
     "data": {
      "text/html": [
       "<table class=\"data-frame\"><thead><tr><th></th><th>model</th><th>aType</th><th>aName</th><th>vol</th><th>price</th><th>lumpSumToAgent</th><th>Profit</th></tr></thead><tbody></tbody></table>"
      ],
      "text/plain": [
       "0×7 DataFrames.DataFrame\n"
      ]
     },
     "execution_count": 10,
     "metadata": {},
     "output_type": "execute_result"
    }
   ],
   "source": [
    "macro fmtDF()\n",
    "    return :( DataFrame(model=String[],  # model name\n",
    "                        aType = String[], # agent type G / C\n",
    "                        aName = String[], # agent name\n",
    "                        vol = Float64[],  # volumes, in kWh (production or consumption)\n",
    "                        price = Float64[],# price per kWh (if paid / received)\n",
    "                        lumpSumToAgent = Float64[],  # lump sum payment to the agent, $\n",
    "                        Profit = Float64[])) # profit (utility) of the agent, $\n",
    "end\n",
    "modelOutputs = @fmtDF()"
   ]
  },
  {
   "cell_type": "markdown",
   "metadata": {},
   "source": [
    "### Case output data format"
   ]
  },
  {
   "cell_type": "code",
   "execution_count": 11,
   "metadata": {},
   "outputs": [
    {
     "data": {
      "text/plain": [
       "describeCase (generic function with 1 method)"
      ]
     },
     "execution_count": 11,
     "metadata": {},
     "output_type": "execute_result"
    }
   ],
   "source": [
    "## some helper functions to produce summary statistics on the case will be there\n",
    "function describeCase(modelName, modelOut, b,c,cSU)\n",
    "    Consumers = @where(modelOut, .|(:aType .== \"C\"));\n",
    "    Generators = @where(modelOut, .|(:aType .== \"G\"));\n",
    "    \n",
    "    PaidByC = sum(Consumers[:vol] .* Consumers[:price] - Consumers[:lumpSumToAgent])\n",
    "    PaidToG = sum(Generators[:vol] .* Generators[:price] + Generators[:lumpSumToAgent])\n",
    "    \n",
    "    FinBalance = PaidByC - PaidToG;\n",
    "    \n",
    "    Utility = sum(Consumers[:vol] .* b)\n",
    "    \n",
    "    Costs = sum(Generators[:vol] .* c)\n",
    "    for i=1:size(Generators,1)\n",
    "        Costs += (Generators[:vol][i] > 0 ? cSU[i] : 0)\n",
    "    end\n",
    "   \n",
    "    Surplus = Utility - Costs;\n",
    "    \n",
    "    return (DataFrame(Approach=modelName, Balance = FinBalance, PaidByC = PaidByC, PaidToG = PaidToG, Surplus=Surplus, Utility=Utility, Costs=Costs));\n",
    "end"
   ]
  },
  {
   "cell_type": "markdown",
   "metadata": {},
   "source": [
    "### Plain LMP case"
   ]
  },
  {
   "cell_type": "code",
   "execution_count": 12,
   "metadata": {},
   "outputs": [
    {
     "data": {
      "text/latex": [
       "$$ \\begin{alignat*}{1}\\max\\quad & 100 d_{1} + 61 d_{2} - 40 p_{1} - 500 z_{1} - 60 p_{2} - 500 z_{2}\\\\\n",
       "\\text{Subject to} \\quad & p_{1} \\geq 0\\\\\n",
       " & p_{1} - 40 z_{1} \\leq 0\\\\\n",
       " & p_{2} - 10 z_{2} \\geq 0\\\\\n",
       " & p_{2} - 200 z_{2} \\leq 0\\\\\n",
       " & d_{1} \\leq 100\\\\\n",
       " & d_{2} \\leq 30\\\\\n",
       " & p_{1} + p_{2} - d_{1} - d_{2} = 0\\\\\n",
       " & p_{i} \\geq 0 \\quad\\forall i \\in \\{1,2\\}\\\\\n",
       " & z_{i} \\in \\{0,1\\} \\quad\\forall i \\in \\{1,2\\}\\\\\n",
       " & d_{i} \\geq 0 \\quad\\forall i \\in \\{1,2\\}\\\\\n",
       "\\end{alignat*}\n",
       " $$"
      ],
      "text/plain": [
       "Maximization problem with:\n",
       " * 7 linear constraints\n",
       " * 6 variables: 2 binary\n",
       "Solver is CbcMathProg"
      ]
     },
     "execution_count": 12,
     "metadata": {},
     "output_type": "execute_result"
    }
   ],
   "source": [
    "## ================== OPF model definition =====================\n",
    "UC_plain = JuMP.Model(solver=CbcSolver())\n",
    "\n",
    "@variable(UC_plain, p[i=1:Ngen]>=0) # production\n",
    "@variable(UC_plain, 0<= z[i=1:Ngen]<=1,Bin) # commitment \n",
    "\n",
    "@variable(UC_plain, d[i=1:Ncons] >= 0, Cont) # consumption\n",
    "\n",
    "for i=1:Ngen\n",
    "    @constraint(UC_plain, p[i] >= Pmin[i]*z[i]) # min production\n",
    "    @constraint(UC_plain, p[i] <= Pmax[i]*z[i]) # max production\n",
    "end\n",
    "\n",
    "for j=1:Ncons\n",
    "    @constraint(UC_plain, d[j] <= Dmax[j])\n",
    "end\n",
    "\n",
    "@constraint(UC_plain, Balance, sum(p[i] for i=1:Ngen) == sum(d[j] for j=1:Ncons))\n",
    "\n",
    "@objective(UC_plain, :Max, sum(b[i]*d[i] for i=1:Ncons) - sum(c[j]*p[j]+cSU[j]*z[j] for j=1:Ngen))\n",
    "\n",
    "UC_plain"
   ]
  },
  {
   "cell_type": "code",
   "execution_count": 13,
   "metadata": {},
   "outputs": [
    {
     "data": {
      "text/plain": [
       ":Optimal"
      ]
     },
     "execution_count": 13,
     "metadata": {},
     "output_type": "execute_result"
    }
   ],
   "source": [
    "status = solve(UC_plain)"
   ]
  },
  {
   "cell_type": "code",
   "execution_count": 14,
   "metadata": {},
   "outputs": [
    {
     "data": {
      "text/latex": [
       "$$ \\begin{alignat*}{1}\\max\\quad & 100 d_{1} + 61 d_{2} - 40 p_{1} - 500 z_{1} - 60 p_{2} - 500 z_{2}\\\\\n",
       "\\text{Subject to} \\quad & p_{1} \\geq 0\\\\\n",
       " & p_{2} - 10 z_{2} \\geq 0\\\\\n",
       " & p_{1} - 40 z_{1} \\leq 0\\\\\n",
       " & p_{2} - 200 z_{2} \\leq 0\\\\\n",
       " & z_{1} = 1\\\\\n",
       " & z_{2} = 1\\\\\n",
       " & d_{1} \\leq 100\\\\\n",
       " & d_{2} \\leq 30\\\\\n",
       " & p_{1} + p_{2} - d_{1} - d_{2} = 0\\\\\n",
       " & p_{i} \\geq 0 \\quad\\forall i \\in \\{1,2\\}\\\\\n",
       " & 0 \\leq z_{i} \\leq 1 \\quad\\forall i \\in \\{1,2\\}\\\\\n",
       " & d_{i} \\geq 0 \\quad\\forall i \\in \\{1,2\\}\\\\\n",
       "\\end{alignat*}\n",
       " $$"
      ],
      "text/plain": [
       "Maximization problem with:\n",
       " * 9 linear constraints\n",
       " * 6 variables\n",
       "Solver is ClpMathProg"
      ]
     },
     "execution_count": 14,
     "metadata": {},
     "output_type": "execute_result"
    }
   ],
   "source": [
    "z_opt = getvalue(z)\n",
    "\n",
    "UC_plain_rel = JuMP.Model(solver=ClpSolver())\n",
    "\n",
    "@variable(UC_plain_rel, p[i=1:Ngen]>=0) # production\n",
    "@variable(UC_plain_rel, 0<= z[i=1:Ngen]<=1,Cont) # commitment \n",
    "\n",
    "@variable(UC_plain_rel, d[i=1:Ncons] >= 0, Cont) # consumption\n",
    "\n",
    "@constraint(UC_plain_rel, PminCons[i=1:Ngen], p[i] >= Pmin[i]*z[i]) # min production\n",
    "@constraint(UC_plain_rel, PmaxCons[i=1:Ngen], p[i] <= Pmax[i]*z[i]) # max production\n",
    "\n",
    "@constraint(UC_plain_rel, RelaxZ[i=1:Ngen], z[i] == z_opt[i])\n",
    "\n",
    "@constraint(UC_plain_rel, DmaxCons[j=1:Ncons], d[j] <= Dmax[j])\n",
    "\n",
    "@constraint(UC_plain_rel, Balance, sum(p[i] for i=1:Ngen) == sum(d[j] for j=1:Ncons))\n",
    "\n",
    "@objective(UC_plain_rel, :Max, sum(b[i]*d[i] for i=1:Ncons) - sum(c[j]*p[j]+cSU[j]*z[j] for j=1:Ngen))\n",
    "\n",
    "status = solve(UC_plain_rel)\n",
    "UC_plain_rel"
   ]
  },
  {
   "cell_type": "code",
   "execution_count": 15,
   "metadata": {},
   "outputs": [
    {
     "data": {
      "text/html": [
       "<table class=\"data-frame\"><thead><tr><th></th><th>model</th><th>aType</th><th>aName</th><th>vol</th><th>price</th><th>lumpSumToAgent</th><th>Profit</th></tr></thead><tbody><tr><th>1</th><td>Plain LMP</td><td>G</td><td>A</td><td>40.0</td><td>60.0</td><td>0.0</td><td>300.0</td></tr><tr><th>2</th><td>Plain LMP</td><td>G</td><td>B</td><td>90.0</td><td>60.0</td><td>0.0</td><td>-500.0</td></tr><tr><th>3</th><td>Plain LMP</td><td>C</td><td>1</td><td>100.0</td><td>60.0</td><td>0.0</td><td>4000.0</td></tr><tr><th>4</th><td>Plain LMP</td><td>C</td><td>2</td><td>30.0</td><td>60.0</td><td>0.0</td><td>30.0</td></tr></tbody></table>"
      ],
      "text/plain": [
       "4×7 DataFrames.DataFrame\n",
       "│ Row │ model     │ aType │ aName │ vol   │ price │ lumpSumToAgent │ Profit │\n",
       "├─────┼───────────┼───────┼───────┼───────┼───────┼────────────────┼────────┤\n",
       "│ 1   │ Plain LMP │ G     │ A     │ 40.0  │ 60.0  │ 0.0            │ 300.0  │\n",
       "│ 2   │ Plain LMP │ G     │ B     │ 90.0  │ 60.0  │ 0.0            │ -500.0 │\n",
       "│ 3   │ Plain LMP │ C     │ 1     │ 100.0 │ 60.0  │ 0.0            │ 4000.0 │\n",
       "│ 4   │ Plain LMP │ C     │ 2     │ 30.0  │ 60.0  │ 0.0            │ 30.0   │"
      ]
     },
     "execution_count": 15,
     "metadata": {},
     "output_type": "execute_result"
    }
   ],
   "source": [
    "out = @fmtDF\n",
    "\n",
    "price = -getdual(Balance)\n",
    "\n",
    "for i=1:Ngen\n",
    "            push!(out,[\"Plain LMP\",\n",
    "            \"G\",\n",
    "            Gnames[i],\n",
    "            getvalue(p[i]),\n",
    "            price,\n",
    "            0,\n",
    "            getvalue(p[i])*(price - c[i]) - cSU[i]*getvalue(z[i])\n",
    "            ])\n",
    "end\n",
    "\n",
    "for i=1:Ncons\n",
    "    push!(out,[\n",
    "            \"Plain LMP\",\n",
    "            \"C\",\n",
    "            Cnames[i],\n",
    "            getvalue(d[i]),\n",
    "            price,\n",
    "            0,\n",
    "            getvalue(d[i])*(b[i] - price)\n",
    "            ])\n",
    "end\n",
    "\n",
    "out"
   ]
  },
  {
   "cell_type": "code",
   "execution_count": 16,
   "metadata": {},
   "outputs": [
    {
     "data": {
      "text/html": [
       "<table class=\"data-frame\"><thead><tr><th></th><th>model</th><th>aType</th><th>aName</th><th>vol</th><th>price</th><th>lumpSumToAgent</th><th>Profit</th></tr></thead><tbody><tr><th>1</th><td>Plain LMP</td><td>G</td><td>A</td><td>40.0</td><td>60.0</td><td>0.0</td><td>300.0</td></tr><tr><th>2</th><td>Plain LMP</td><td>G</td><td>B</td><td>90.0</td><td>60.0</td><td>0.0</td><td>-500.0</td></tr><tr><th>3</th><td>Plain LMP</td><td>C</td><td>1</td><td>100.0</td><td>60.0</td><td>0.0</td><td>4000.0</td></tr><tr><th>4</th><td>Plain LMP</td><td>C</td><td>2</td><td>30.0</td><td>60.0</td><td>0.0</td><td>30.0</td></tr></tbody></table>"
      ],
      "text/plain": [
       "4×7 DataFrames.DataFrame\n",
       "│ Row │ model     │ aType │ aName │ vol   │ price │ lumpSumToAgent │ Profit │\n",
       "├─────┼───────────┼───────┼───────┼───────┼───────┼────────────────┼────────┤\n",
       "│ 1   │ Plain LMP │ G     │ A     │ 40.0  │ 60.0  │ 0.0            │ 300.0  │\n",
       "│ 2   │ Plain LMP │ G     │ B     │ 90.0  │ 60.0  │ 0.0            │ -500.0 │\n",
       "│ 3   │ Plain LMP │ C     │ 1     │ 100.0 │ 60.0  │ 0.0            │ 4000.0 │\n",
       "│ 4   │ Plain LMP │ C     │ 2     │ 30.0  │ 60.0  │ 0.0            │ 30.0   │"
      ]
     },
     "execution_count": 16,
     "metadata": {},
     "output_type": "execute_result"
    }
   ],
   "source": [
    "modelOutputs = out"
   ]
  },
  {
   "cell_type": "code",
   "execution_count": 17,
   "metadata": {},
   "outputs": [
    {
     "data": {
      "text/html": [
       "<table class=\"data-frame\"><thead><tr><th></th><th>Approach</th><th>Balance</th><th>PaidByC</th><th>PaidToG</th><th>Surplus</th><th>Utility</th><th>Costs</th></tr></thead><tbody><tr><th>1</th><td>Plain LMP</td><td>0.0</td><td>7800.0</td><td>7800.0</td><td>3830.0</td><td>11830.0</td><td>8000.0</td></tr></tbody></table>"
      ],
      "text/plain": [
       "1×7 DataFrames.DataFrame\n",
       "│ Row │ Approach  │ Balance │ PaidByC │ PaidToG │ Surplus │ Utility │ Costs  │\n",
       "├─────┼───────────┼─────────┼─────────┼─────────┼─────────┼─────────┼────────┤\n",
       "│ 1   │ Plain LMP │ 0.0     │ 7800.0  │ 7800.0  │ 3830.0  │ 11830.0 │ 8000.0 │"
      ]
     },
     "execution_count": 17,
     "metadata": {},
     "output_type": "execute_result"
    }
   ],
   "source": [
    "modelMetrics = describeCase(\"Plain LMP\", out,b,c,cSU)"
   ]
  },
  {
   "cell_type": "markdown",
   "metadata": {},
   "source": [
    "### IP and IP+ approaches"
   ]
  },
  {
   "cell_type": "markdown",
   "metadata": {},
   "source": [
    "#### Out-of-market corrections (OMC) -- auxiliary functions"
   ]
  },
  {
   "cell_type": "code",
   "execution_count": 18,
   "metadata": {},
   "outputs": [
    {
     "data": {
      "text/plain": [
       "distributeOMC (generic function with 1 method)"
      ]
     },
     "execution_count": 18,
     "metadata": {},
     "output_type": "execute_result"
    }
   ],
   "source": [
    "## distribution of OMC between consumers\n",
    "function distributeOMC(FinImbalance, λ, b, volumes)\n",
    "    # we understand an imbalance >0 when there is something to pay BY consumers\n",
    "    N = size(volumes,1)\n",
    "    OMC = DataFrame(index = 1:N, B = b, vol=volumes, val=zeros(N))\n",
    "    \n",
    "    if FinImbalance==0\n",
    "        # just nothing more to do\n",
    "        return(OMC);\n",
    "    end\n",
    "    \n",
    "    ## we can determine the ``fair'' rate -- but it might be not possible (incentive-incompatible) for everybody\n",
    "    ## so we start with consumers with the /least/ utility 'margin', i.e. the smallest marginal utility\n",
    "    OMC = sort!(OMC,:B)\n",
    "    \n",
    "    currentImbalance = FinImbalance;\n",
    "    currentVolumes = sum(volumes);\n",
    "    \n",
    "    for i=1:N\n",
    "        OMC_rate = currentImbalance / currentVolumes; ## a rate for Out of Market Correction (per kWh)\n",
    "        OMC[:val][i] = -minimum([OMC_rate (OMC[:B][i] - λ)])*OMC[:vol][i]; ## min to keep individual rationality (nonnegative profits)\n",
    "        OMC[:val][i] = minimum([OMC[:val][i] 0]); # we do not allow for negative payments here\n",
    "        currentImbalance += OMC[:val][i]\n",
    "        currentVolumes -= OMC[:vol][i]\n",
    "    end\n",
    "\n",
    "    return (sort!(OMC, :index)); # note that we need to revert to the initial order of consumers\n",
    "end"
   ]
  },
  {
   "cell_type": "code",
   "execution_count": 19,
   "metadata": {},
   "outputs": [
    {
     "name": "stdout",
     "output_type": "stream",
     "text": [
      "Price=60.0\n",
      "b=[100, 61] and volumes are [100.0, 30.0]\n"
     ]
    },
    {
     "data": {
      "text/html": [
       "<table class=\"data-frame\"><thead><tr><th></th><th>index</th><th>B</th><th>vol</th><th>val</th></tr></thead><tbody><tr><th>1</th><td>1</td><td>100</td><td>100.0</td><td>-470.0</td></tr><tr><th>2</th><td>2</td><td>61</td><td>30.0</td><td>-30.0</td></tr></tbody></table>"
      ],
      "text/plain": [
       "2×4 DataFrames.DataFrame\n",
       "│ Row │ index │ B   │ vol   │ val    │\n",
       "├─────┼───────┼─────┼───────┼────────┤\n",
       "│ 1   │ 1     │ 100 │ 100.0 │ -470.0 │\n",
       "│ 2   │ 2     │ 61  │ 30.0  │ -30.0  │"
      ]
     },
     "execution_count": 19,
     "metadata": {},
     "output_type": "execute_result"
    }
   ],
   "source": [
    "println(\"Price=\",-getdual(Balance))\n",
    "println(\"b=\",b,\" and volumes are \",getvalue(d))\n",
    "distributeOMC(500,-getdual(Balance),b,getvalue(d))"
   ]
  },
  {
   "cell_type": "markdown",
   "metadata": {},
   "source": [
    "#### Main code for IP"
   ]
  },
  {
   "cell_type": "code",
   "execution_count": 20,
   "metadata": {},
   "outputs": [
    {
     "name": "stdout",
     "output_type": "stream",
     "text": [
      "Market imbalance (=payments to generators): 200.0\n"
     ]
    },
    {
     "data": {
      "text/html": [
       "<table class=\"data-frame\"><thead><tr><th></th><th>model</th><th>aType</th><th>aName</th><th>vol</th><th>price</th><th>lumpSumToAgent</th><th>Profit</th></tr></thead><tbody><tr><th>1</th><td>IP</td><td>G</td><td>A</td><td>40.0</td><td>60.0</td><td>-300.0</td><td>0.0</td></tr><tr><th>2</th><td>IP</td><td>G</td><td>B</td><td>90.0</td><td>60.0</td><td>500.0</td><td>0.0</td></tr><tr><th>3</th><td>IP</td><td>C</td><td>1</td><td>100.0</td><td>60.0</td><td>-170.0</td><td>3830.0</td></tr><tr><th>4</th><td>IP</td><td>C</td><td>2</td><td>30.0</td><td>60.0</td><td>-30.0</td><td>0.0</td></tr></tbody></table>"
      ],
      "text/plain": [
       "4×7 DataFrames.DataFrame\n",
       "│ Row │ model │ aType │ aName │ vol   │ price │ lumpSumToAgent │ Profit │\n",
       "├─────┼───────┼───────┼───────┼───────┼───────┼────────────────┼────────┤\n",
       "│ 1   │ IP    │ G     │ A     │ 40.0  │ 60.0  │ -300.0         │ 0.0    │\n",
       "│ 2   │ IP    │ G     │ B     │ 90.0  │ 60.0  │ 500.0          │ 0.0    │\n",
       "│ 3   │ IP    │ C     │ 1     │ 100.0 │ 60.0  │ -170.0         │ 3830.0 │\n",
       "│ 4   │ IP    │ C     │ 2     │ 30.0  │ 60.0  │ -30.0          │ 0.0    │"
      ]
     },
     "execution_count": 20,
     "metadata": {},
     "output_type": "execute_result"
    }
   ],
   "source": [
    "## here we utilize the same problem to produce \"IP\" pricing (payments)\n",
    "out = @fmtDF\n",
    "\n",
    "price = -getdual(Balance);\n",
    "Gpayments = -getdual(RelaxZ) - getdual(z); # basically, we extract all the profits and losses.\n",
    "\n",
    "## now, redistribute the imbalance:\n",
    "imbalance = sum(Gpayments);\n",
    "println(\"Market imbalance (=payments to generators): \", imbalance)\n",
    "\n",
    "Cpayments = distributeOMC(imbalance, price,  b, getvalue(d))[:val]\n",
    "\n",
    "for i=1:Ngen\n",
    "            push!(out,[\"IP\",\n",
    "            \"G\",\n",
    "            Gnames[i],\n",
    "            getvalue(p[i]),\n",
    "            price,\n",
    "            Gpayments[i],\n",
    "            getvalue(p[i])*(price - c[i]) - cSU[i]*getvalue(z[i]) + Gpayments[i]\n",
    "            ])\n",
    "end\n",
    "\n",
    "for i=1:Ncons\n",
    "    push!(out,[\n",
    "            \"IP\",\n",
    "            \"C\",\n",
    "            Cnames[i],\n",
    "            getvalue(d[i]),\n",
    "            price,\n",
    "            Cpayments[i],\n",
    "            getvalue(d[i])*(b[i] - price)+Cpayments[i]\n",
    "            ])\n",
    "end\n",
    "\n",
    "out"
   ]
  },
  {
   "cell_type": "code",
   "execution_count": 21,
   "metadata": {},
   "outputs": [
    {
     "data": {
      "text/html": [
       "<table class=\"data-frame\"><thead><tr><th></th><th>Approach</th><th>Balance</th><th>PaidByC</th><th>PaidToG</th><th>Surplus</th><th>Utility</th><th>Costs</th></tr></thead><tbody><tr><th>1</th><td>IP</td><td>0.0</td><td>8000.0</td><td>8000.0</td><td>3830.0</td><td>11830.0</td><td>8000.0</td></tr></tbody></table>"
      ],
      "text/plain": [
       "1×7 DataFrames.DataFrame\n",
       "│ Row │ Approach │ Balance │ PaidByC │ PaidToG │ Surplus │ Utility │ Costs  │\n",
       "├─────┼──────────┼─────────┼─────────┼─────────┼─────────┼─────────┼────────┤\n",
       "│ 1   │ IP       │ 0.0     │ 8000.0  │ 8000.0  │ 3830.0  │ 11830.0 │ 8000.0 │"
      ]
     },
     "execution_count": 21,
     "metadata": {},
     "output_type": "execute_result"
    }
   ],
   "source": [
    "describeCase(\"IP\",out,b,c,cSU)"
   ]
  },
  {
   "cell_type": "code",
   "execution_count": 22,
   "metadata": {},
   "outputs": [
    {
     "data": {
      "text/html": [
       "<table class=\"data-frame\"><thead><tr><th></th><th>Approach</th><th>Balance</th><th>PaidByC</th><th>PaidToG</th><th>Surplus</th><th>Utility</th><th>Costs</th></tr></thead><tbody><tr><th>1</th><td>Plain LMP</td><td>0.0</td><td>7800.0</td><td>7800.0</td><td>3830.0</td><td>11830.0</td><td>8000.0</td></tr><tr><th>2</th><td>IP</td><td>0.0</td><td>8000.0</td><td>8000.0</td><td>3830.0</td><td>11830.0</td><td>8000.0</td></tr></tbody></table>"
      ],
      "text/plain": [
       "2×7 DataFrames.DataFrame\n",
       "│ Row │ Approach  │ Balance │ PaidByC │ PaidToG │ Surplus │ Utility │ Costs  │\n",
       "├─────┼───────────┼─────────┼─────────┼─────────┼─────────┼─────────┼────────┤\n",
       "│ 1   │ Plain LMP │ 0.0     │ 7800.0  │ 7800.0  │ 3830.0  │ 11830.0 │ 8000.0 │\n",
       "│ 2   │ IP        │ 0.0     │ 8000.0  │ 8000.0  │ 3830.0  │ 11830.0 │ 8000.0 │"
      ]
     },
     "execution_count": 22,
     "metadata": {},
     "output_type": "execute_result"
    }
   ],
   "source": [
    "modelOutputs = vcat(modelOutputs,out)\n",
    "modelMetrics = vcat(modelMetrics, describeCase(\"IP\", out,b,c,cSU))"
   ]
  },
  {
   "cell_type": "markdown",
   "metadata": {},
   "source": [
    "#### Main code for IP+"
   ]
  },
  {
   "cell_type": "code",
   "execution_count": 23,
   "metadata": {},
   "outputs": [
    {
     "name": "stdout",
     "output_type": "stream",
     "text": [
      "Market imbalance (=payments to generators): 500.0\n"
     ]
    },
    {
     "data": {
      "text/html": [
       "<table class=\"data-frame\"><thead><tr><th></th><th>model</th><th>aType</th><th>aName</th><th>vol</th><th>price</th><th>lumpSumToAgent</th><th>Profit</th></tr></thead><tbody><tr><th>1</th><td>IP+</td><td>G</td><td>A</td><td>40.0</td><td>60.0</td><td>0.0</td><td>300.0</td></tr><tr><th>2</th><td>IP+</td><td>G</td><td>B</td><td>90.0</td><td>60.0</td><td>500.0</td><td>0.0</td></tr><tr><th>3</th><td>IP+</td><td>C</td><td>1</td><td>100.0</td><td>60.0</td><td>-470.0</td><td>3530.0</td></tr><tr><th>4</th><td>IP+</td><td>C</td><td>2</td><td>30.0</td><td>60.0</td><td>-30.0</td><td>0.0</td></tr></tbody></table>"
      ],
      "text/plain": [
       "4×7 DataFrames.DataFrame\n",
       "│ Row │ model │ aType │ aName │ vol   │ price │ lumpSumToAgent │ Profit │\n",
       "├─────┼───────┼───────┼───────┼───────┼───────┼────────────────┼────────┤\n",
       "│ 1   │ IP+   │ G     │ A     │ 40.0  │ 60.0  │ 0.0            │ 300.0  │\n",
       "│ 2   │ IP+   │ G     │ B     │ 90.0  │ 60.0  │ 500.0          │ 0.0    │\n",
       "│ 3   │ IP+   │ C     │ 1     │ 100.0 │ 60.0  │ -470.0         │ 3530.0 │\n",
       "│ 4   │ IP+   │ C     │ 2     │ 30.0  │ 60.0  │ -30.0          │ 0.0    │"
      ]
     },
     "execution_count": 23,
     "metadata": {},
     "output_type": "execute_result"
    }
   ],
   "source": [
    "## here we utilize the same problem to produce \"IP+\" pricing (payments)\n",
    "out = @fmtDF\n",
    "\n",
    "price = -getdual(Balance);\n",
    "Gpayments = -getdual(RelaxZ); # we extract losses only\n",
    "\n",
    "## now, redistribute the imbalance:\n",
    "imbalance = sum(Gpayments);\n",
    "println(\"Market imbalance (=payments to generators): \", imbalance)\n",
    "\n",
    "Cpayments = distributeOMC(imbalance, price,  b, getvalue(d))[:val]\n",
    "\n",
    "for i=1:Ngen\n",
    "            push!(out,[\"IP+\",\n",
    "            \"G\",\n",
    "            Gnames[i],\n",
    "            getvalue(p[i]),\n",
    "            price,\n",
    "            Gpayments[i],\n",
    "            getvalue(p[i])*(price - c[i]) - cSU[i]*getvalue(z[i]) + Gpayments[i]\n",
    "            ])\n",
    "end\n",
    "\n",
    "for i=1:Ncons\n",
    "    push!(out,[\n",
    "            \"IP+\",\n",
    "            \"C\",\n",
    "            Cnames[i],\n",
    "            getvalue(d[i]),\n",
    "            price,\n",
    "            Cpayments[i],\n",
    "            getvalue(d[i])*(b[i] - price)+Cpayments[i]\n",
    "            ])\n",
    "end\n",
    "\n",
    "out"
   ]
  },
  {
   "cell_type": "code",
   "execution_count": 24,
   "metadata": {},
   "outputs": [
    {
     "data": {
      "text/html": [
       "<table class=\"data-frame\"><thead><tr><th></th><th>Approach</th><th>Balance</th><th>PaidByC</th><th>PaidToG</th><th>Surplus</th><th>Utility</th><th>Costs</th></tr></thead><tbody><tr><th>1</th><td>Plain LMP</td><td>0.0</td><td>7800.0</td><td>7800.0</td><td>3830.0</td><td>11830.0</td><td>8000.0</td></tr><tr><th>2</th><td>IP</td><td>0.0</td><td>8000.0</td><td>8000.0</td><td>3830.0</td><td>11830.0</td><td>8000.0</td></tr><tr><th>3</th><td>IP+</td><td>0.0</td><td>8300.0</td><td>8300.0</td><td>3830.0</td><td>11830.0</td><td>8000.0</td></tr></tbody></table>"
      ],
      "text/plain": [
       "3×7 DataFrames.DataFrame\n",
       "│ Row │ Approach  │ Balance │ PaidByC │ PaidToG │ Surplus │ Utility │ Costs  │\n",
       "├─────┼───────────┼─────────┼─────────┼─────────┼─────────┼─────────┼────────┤\n",
       "│ 1   │ Plain LMP │ 0.0     │ 7800.0  │ 7800.0  │ 3830.0  │ 11830.0 │ 8000.0 │\n",
       "│ 2   │ IP        │ 0.0     │ 8000.0  │ 8000.0  │ 3830.0  │ 11830.0 │ 8000.0 │\n",
       "│ 3   │ IP+       │ 0.0     │ 8300.0  │ 8300.0  │ 3830.0  │ 11830.0 │ 8000.0 │"
      ]
     },
     "execution_count": 24,
     "metadata": {},
     "output_type": "execute_result"
    }
   ],
   "source": [
    "modelOutputs = vcat(modelOutputs,out)\n",
    "modelMetrics = vcat(modelMetrics, describeCase(\"IP+\", out,b,c,cSU))"
   ]
  },
  {
   "cell_type": "markdown",
   "metadata": {},
   "source": [
    "### Dual Pricing Algorithm"
   ]
  },
  {
   "cell_type": "code",
   "execution_count": 25,
   "metadata": {},
   "outputs": [],
   "source": [
    "## first, let us fix optimal volumes\n",
    "p_opt = getvalue(p);\n",
    "d_opt = getvalue(d);\n",
    "# we already have z_opt"
   ]
  },
  {
   "cell_type": "code",
   "execution_count": 26,
   "metadata": {},
   "outputs": [
    {
     "data": {
      "text/latex": [
       "$$ \\begin{alignat*}{1}\\min\\quad & 100 Up_d_{1} + 30 Up_d_{2} + 40 Up_{1} + 90 Up_{2}\\\\\n",
       "\\text{Subject to} \\quad & 100 Up_d_{1} - 100 Upc_d_{1} + 30 Up_d_{2} - 30 Upc_d_{2} - 40 Up_{1} + 40 Upc_{1} - 90 Up_{2} + 90 Upc_{2} = 0\\\\\n",
       " & Ψ_{1} + 100 λdpa - 100 Up_d_{1} + 100 Upc_d_{1} = 10000\\\\\n",
       " & Ψ_{2} + 30 λdpa - 30 Up_d_{2} + 30 Upc_d_{2} = 1830\\\\\n",
       " & Π_{1} - 40 λdpa - 40 Up_{1} + 40 Upc_{1} = -2100\\\\\n",
       " & Π_{2} - 90 λdpa - 90 Up_{2} + 90 Upc_{2} = -5900\\\\\n",
       " & Ψ_{1} \\geq 0\\\\\n",
       " & Ψ_{2} \\geq 0\\\\\n",
       " & Π_{1} \\geq 0\\\\\n",
       " & Π_{2} \\geq 0\\\\\n",
       " & Up_d_{i} \\geq 0 \\quad\\forall i \\in \\{1,2\\}\\\\\n",
       " & Up_{i} \\geq 0 \\quad\\forall i \\in \\{1,2\\}\\\\\n",
       " & Upc_d_{i} \\geq 0 \\quad\\forall i \\in \\{1,2\\}\\\\\n",
       " & Upc_{i} \\geq 0 \\quad\\forall i \\in \\{1,2\\}\\\\\n",
       " & Ψ_{i} \\geq -100000 \\quad\\forall i \\in \\{1,2\\}\\\\\n",
       " & Π_{j} \\geq -100000 \\quad\\forall j \\in \\{1,2\\}\\\\\n",
       " & -100000 \\leq λdpa \\leq 100000\\\\\n",
       "\\end{alignat*}\n",
       " $$"
      ],
      "text/plain": [
       "Minimization problem with:\n",
       " * 9 linear constraints\n",
       " * 13 variables\n",
       "Solver is ClpMathProg"
      ]
     },
     "execution_count": 26,
     "metadata": {},
     "output_type": "execute_result"
    }
   ],
   "source": [
    "UC_DPA = JuMP.Model(solver=ClpSolver())\n",
    "const M = 100000\n",
    "\n",
    "@variable(UC_DPA, Up_d[i=1:Ncons] >=0 , Cont) # Uplift TO demand (consumers)\n",
    "@variable(UC_DPA, Up[i=1:Ngen] >=0, Cont) # Uplift TO generation\n",
    "@variable(UC_DPA, Upc_d[i=1:Ncons] >=0 , Cont) # additional charge to demand (consumers)\n",
    "@variable(UC_DPA, Upc[i=1:Ngen] >=0, Cont) # additional charge to generators\n",
    "\n",
    "@variable(UC_DPA, Ψ[i=1:Ncons] >= -M, Cont) # consumers' utilities\n",
    "@variable(UC_DPA, Π[j=1:Ngen] >= -M, Cont) # generators' profits\n",
    "\n",
    "@variable(UC_DPA, -M <= λdpa <= M, Cont)\n",
    "\n",
    "## objective\n",
    "\n",
    "@objective(UC_DPA, :Min, sum(d_opt[i]*Up_d[i] for i=1:Ncons)+sum(p_opt[j]*Up[j] for j=1:Ngen))\n",
    "\n",
    "## constraints\n",
    "@constraint(UC_DPA, sum(d_opt[i]*(Up_d[i] - Upc_d[i]) for i=1:Ncons)\n",
    "    == sum(p_opt[j]*(Up[j] - Upc[j]) for j=1:Ngen)) # Balance of payments (no money on the table)\n",
    "\n",
    "@constraint(UC_DPA, IC_Utility[i=1:Ncons], Ψ[i] == d_opt[i]*(b[i]-λdpa + Up_d[i] - Upc_d[i]) ) # Utility\n",
    "@constraint(UC_DPA, IC_Profits[j=1:Ngen], Π[j] == p_opt[j]*(λdpa - c[j]+Up[j] - Upc[j]) - cSU[j]*z_opt[j]) # Profits\n",
    "\n",
    "@constraint(UC_DPA, Ψ[i=1:Ncons] .>= 0 )\n",
    "@constraint(UC_DPA, Π[i=1:Ngen] .>= 0  )\n",
    "\n",
    "UC_DPA"
   ]
  },
  {
   "cell_type": "code",
   "execution_count": 27,
   "metadata": {},
   "outputs": [
    {
     "data": {
      "text/plain": [
       ":Optimal"
      ]
     },
     "execution_count": 27,
     "metadata": {},
     "output_type": "execute_result"
    }
   ],
   "source": [
    "status = solve(UC_DPA)"
   ]
  },
  {
   "cell_type": "code",
   "execution_count": 28,
   "metadata": {},
   "outputs": [
    {
     "data": {
      "text/html": [
       "<table class=\"data-frame\"><thead><tr><th></th><th>model</th><th>aType</th><th>aName</th><th>vol</th><th>price</th><th>lumpSumToAgent</th><th>Profit</th></tr></thead><tbody><tr><th>1</th><td>DPA</td><td>G</td><td>A</td><td>40.0</td><td>65.5556</td><td>0.0</td><td>522.222</td></tr><tr><th>2</th><td>DPA</td><td>G</td><td>B</td><td>90.0</td><td>65.5556</td><td>0.0</td><td>0.0</td></tr><tr><th>3</th><td>DPA</td><td>C</td><td>1</td><td>100.0</td><td>65.5556</td><td>-136.667</td><td>3307.78</td></tr><tr><th>4</th><td>DPA</td><td>C</td><td>2</td><td>30.0</td><td>65.5556</td><td>136.667</td><td>0.0</td></tr></tbody></table>"
      ],
      "text/plain": [
       "4×7 DataFrames.DataFrame\n",
       "│ Row │ model │ aType │ aName │ vol   │ price   │ lumpSumToAgent │ Profit  │\n",
       "├─────┼───────┼───────┼───────┼───────┼─────────┼────────────────┼─────────┤\n",
       "│ 1   │ DPA   │ G     │ A     │ 40.0  │ 65.5556 │ 0.0            │ 522.222 │\n",
       "│ 2   │ DPA   │ G     │ B     │ 90.0  │ 65.5556 │ 0.0            │ 0.0     │\n",
       "│ 3   │ DPA   │ C     │ 1     │ 100.0 │ 65.5556 │ -136.667       │ 3307.78 │\n",
       "│ 4   │ DPA   │ C     │ 2     │ 30.0  │ 65.5556 │ 136.667        │ 0.0     │"
      ]
     },
     "execution_count": 28,
     "metadata": {},
     "output_type": "execute_result"
    }
   ],
   "source": [
    "out = @fmtDF\n",
    "\n",
    "price = getvalue(λdpa);\n",
    "\n",
    "for i=1:Ngen\n",
    "            push!(out,[\"DPA\",\n",
    "            \"G\",\n",
    "            Gnames[i],\n",
    "            p_opt[i],\n",
    "            price,\n",
    "            (getvalue(Up[i]) - getvalue(Upc[i]))*p_opt[i],\n",
    "            getvalue(Π[i])\n",
    "            ])\n",
    "end\n",
    "\n",
    "for i=1:Ncons\n",
    "    push!(out,[\n",
    "            \"DPA\",\n",
    "            \"C\",\n",
    "            Cnames[i],\n",
    "            d_opt[i],\n",
    "            price,\n",
    "            (getvalue(Up_d[i]) - getvalue(Upc_d[i]))*d_opt[i],\n",
    "            getvalue(Ψ[i])\n",
    "            ])\n",
    "end\n",
    "\n",
    "out"
   ]
  },
  {
   "cell_type": "code",
   "execution_count": 29,
   "metadata": {},
   "outputs": [
    {
     "data": {
      "text/html": [
       "<table class=\"data-frame\"><thead><tr><th></th><th>Approach</th><th>Balance</th><th>PaidByC</th><th>PaidToG</th><th>Surplus</th><th>Utility</th><th>Costs</th></tr></thead><tbody><tr><th>1</th><td>DPA</td><td>0.0</td><td>8522.22</td><td>8522.22</td><td>3830.0</td><td>11830.0</td><td>8000.0</td></tr></tbody></table>"
      ],
      "text/plain": [
       "1×7 DataFrames.DataFrame\n",
       "│ Row │ Approach │ Balance │ PaidByC │ PaidToG │ Surplus │ Utility │ Costs  │\n",
       "├─────┼──────────┼─────────┼─────────┼─────────┼─────────┼─────────┼────────┤\n",
       "│ 1   │ DPA      │ 0.0     │ 8522.22 │ 8522.22 │ 3830.0  │ 11830.0 │ 8000.0 │"
      ]
     },
     "execution_count": 29,
     "metadata": {},
     "output_type": "execute_result"
    }
   ],
   "source": [
    "caseUpd = describeCase(\"DPA\", out,b,c,cSU)"
   ]
  },
  {
   "cell_type": "code",
   "execution_count": 30,
   "metadata": {},
   "outputs": [
    {
     "data": {
      "text/html": [
       "<table class=\"data-frame\"><thead><tr><th></th><th>Approach</th><th>Balance</th><th>PaidByC</th><th>PaidToG</th><th>Surplus</th><th>Utility</th><th>Costs</th></tr></thead><tbody><tr><th>1</th><td>Plain LMP</td><td>0.0</td><td>7800.0</td><td>7800.0</td><td>3830.0</td><td>11830.0</td><td>8000.0</td></tr><tr><th>2</th><td>IP</td><td>0.0</td><td>8000.0</td><td>8000.0</td><td>3830.0</td><td>11830.0</td><td>8000.0</td></tr><tr><th>3</th><td>IP+</td><td>0.0</td><td>8300.0</td><td>8300.0</td><td>3830.0</td><td>11830.0</td><td>8000.0</td></tr><tr><th>4</th><td>DPA</td><td>0.0</td><td>8522.22</td><td>8522.22</td><td>3830.0</td><td>11830.0</td><td>8000.0</td></tr></tbody></table>"
      ],
      "text/plain": [
       "4×7 DataFrames.DataFrame\n",
       "│ Row │ Approach  │ Balance │ PaidByC │ PaidToG │ Surplus │ Utility │ Costs  │\n",
       "├─────┼───────────┼─────────┼─────────┼─────────┼─────────┼─────────┼────────┤\n",
       "│ 1   │ Plain LMP │ 0.0     │ 7800.0  │ 7800.0  │ 3830.0  │ 11830.0 │ 8000.0 │\n",
       "│ 2   │ IP        │ 0.0     │ 8000.0  │ 8000.0  │ 3830.0  │ 11830.0 │ 8000.0 │\n",
       "│ 3   │ IP+       │ 0.0     │ 8300.0  │ 8300.0  │ 3830.0  │ 11830.0 │ 8000.0 │\n",
       "│ 4   │ DPA       │ 0.0     │ 8522.22 │ 8522.22 │ 3830.0  │ 11830.0 │ 8000.0 │"
      ]
     },
     "execution_count": 30,
     "metadata": {},
     "output_type": "execute_result"
    }
   ],
   "source": [
    "modelOutputs = vcat(modelOutputs,out)\n",
    "modelMetrics = vcat(modelMetrics, caseUpd)"
   ]
  },
  {
   "cell_type": "markdown",
   "metadata": {},
   "source": [
    "### Extended LMP"
   ]
  },
  {
   "cell_type": "code",
   "execution_count": 31,
   "metadata": {},
   "outputs": [
    {
     "data": {
      "text/latex": [
       "$$ \\begin{alignat*}{1}\\max\\quad & 100 d_{1} + 61 d_{2} - 40 p_{1} - 500 z_{1} - 60 p_{2} - 500 z_{2}\\\\\n",
       "\\text{Subject to} \\quad & p_{1} \\geq 0\\\\\n",
       " & p_{1} - 40 z_{1} \\leq 0\\\\\n",
       " & p_{2} - 10 z_{2} \\geq 0\\\\\n",
       " & p_{2} - 200 z_{2} \\leq 0\\\\\n",
       " & d_{1} \\leq 100\\\\\n",
       " & d_{2} \\leq 30\\\\\n",
       " & p_{1} + p_{2} - d_{1} - d_{2} = 0\\\\\n",
       " & p_{i} \\geq 0 \\quad\\forall i \\in \\{1,2\\}\\\\\n",
       " & 0 \\leq z_{i} \\leq 1 \\quad\\forall i \\in \\{1,2\\}\\\\\n",
       " & d_{i} \\geq 0 \\quad\\forall i \\in \\{1,2\\}\\\\\n",
       "\\end{alignat*}\n",
       " $$"
      ],
      "text/plain": [
       "Maximization problem with:\n",
       " * 7 linear constraints\n",
       " * 6 variables\n",
       "Solver is ClpMathProg"
      ]
     },
     "execution_count": 31,
     "metadata": {},
     "output_type": "execute_result"
    }
   ],
   "source": [
    "## ================== OPF model definition =====================\n",
    "UC_ELMP = JuMP.Model(solver=ClpSolver())\n",
    "\n",
    "@variable(UC_ELMP, p[i=1:Ngen]>=0) # production\n",
    "@variable(UC_ELMP, 0<= z[i=1:Ngen]<=1,Cont) # relax the integrality constraint\n",
    "\n",
    "@variable(UC_ELMP, d[i=1:Ncons] >= 0, Cont) # consumption\n",
    "\n",
    "for i=1:Ngen\n",
    "    @constraint(UC_ELMP, p[i] >= Pmin[i]*z[i]) # min production\n",
    "    @constraint(UC_ELMP, p[i] <= Pmax[i]*z[i]) # max production\n",
    "end\n",
    "\n",
    "for j=1:Ncons\n",
    "    @constraint(UC_ELMP, d[j] <= Dmax[j])\n",
    "end\n",
    "\n",
    "@constraint(UC_ELMP, Balance, sum(p[i] for i=1:Ngen) == sum(d[j] for j=1:Ncons))\n",
    "\n",
    "@objective(UC_ELMP, :Max, sum(b[i]*d[i] for i=1:Ncons) - sum(c[j]*p[j]+cSU[j]*z[j] for j=1:Ngen))\n",
    "\n",
    "UC_ELMP"
   ]
  },
  {
   "cell_type": "code",
   "execution_count": 32,
   "metadata": {},
   "outputs": [
    {
     "data": {
      "text/plain": [
       ":Optimal"
      ]
     },
     "execution_count": 32,
     "metadata": {},
     "output_type": "execute_result"
    }
   ],
   "source": [
    "status = solve(UC_ELMP)"
   ]
  },
  {
   "cell_type": "code",
   "execution_count": 33,
   "metadata": {},
   "outputs": [
    {
     "ename": "LoadError",
     "evalue": "\u001b[91mUndefVarError: addCpayments not defined\u001b[39m",
     "output_type": "error",
     "traceback": [
      "\u001b[91mUndefVarError: addCpayments not defined\u001b[39m",
      "",
      "Stacktrace:",
      " [1] \u001b[1minclude_string\u001b[22m\u001b[22m\u001b[1m(\u001b[22m\u001b[22m::String, ::String\u001b[1m)\u001b[22m\u001b[22m at \u001b[1m./loading.jl:522\u001b[22m\u001b[22m"
     ]
    }
   ],
   "source": [
    "addCpayments"
   ]
  },
  {
   "cell_type": "code",
   "execution_count": 34,
   "metadata": {},
   "outputs": [
    {
     "name": "stdout",
     "output_type": "stream",
     "text": [
      "Market imbalance (=payments to generators): 320.0\n"
     ]
    },
    {
     "data": {
      "text/html": [
       "<table class=\"data-frame\"><thead><tr><th></th><th>model</th><th>aType</th><th>aName</th><th>vol</th><th>price</th><th>lumpSumToAgent</th><th>Profit</th></tr></thead><tbody><tr><th>1</th><td>Ext. LMP</td><td>G</td><td>A</td><td>40.0</td><td>62.5</td><td>0.0</td><td>400.0</td></tr><tr><th>2</th><td>Ext. LMP</td><td>G</td><td>B</td><td>90.0</td><td>62.5</td><td>275.0</td><td>0.0</td></tr><tr><th>3</th><td>Ext. LMP</td><td>C</td><td>1</td><td>100.0</td><td>62.5</td><td>-320.0</td><td>3430.0</td></tr><tr><th>4</th><td>Ext. LMP</td><td>C</td><td>2</td><td>30.0</td><td>62.5</td><td>45.0</td><td>0.0</td></tr></tbody></table>"
      ],
      "text/plain": [
       "4×7 DataFrames.DataFrame\n",
       "│ Row │ model    │ aType │ aName │ vol   │ price │ lumpSumToAgent │ Profit │\n",
       "├─────┼──────────┼───────┼───────┼───────┼───────┼────────────────┼────────┤\n",
       "│ 1   │ Ext. LMP │ G     │ A     │ 40.0  │ 62.5  │ 0.0            │ 400.0  │\n",
       "│ 2   │ Ext. LMP │ G     │ B     │ 90.0  │ 62.5  │ 275.0          │ 0.0    │\n",
       "│ 3   │ Ext. LMP │ C     │ 1     │ 100.0 │ 62.5  │ -320.0         │ 3430.0 │\n",
       "│ 4   │ Ext. LMP │ C     │ 2     │ 30.0  │ 62.5  │ 45.0           │ 0.0    │"
      ]
     },
     "execution_count": 34,
     "metadata": {},
     "output_type": "execute_result"
    }
   ],
   "source": [
    "out = @fmtDF\n",
    "\n",
    "price = -getdual(Balance)\n",
    "\n",
    "Gpayments = max.(-(p_opt .* (price-c) - cSU .* z_opt),0) # remove any losses to ensure incentive compatibility\n",
    "Cpayments = max.(-d_opt .* (b - price),0)\n",
    "\n",
    "imbalance = sum(Gpayments) + sum(Cpayments);\n",
    "println(\"Market imbalance (=payments to generators): \", imbalance)\n",
    "\n",
    "addCpayments = distributeOMC(imbalance, price,  b, d_opt)[:val] ## note that consumers' incentive-compatibility is built-in into this function\n",
    "\n",
    "for i=1:Ngen\n",
    "            push!(out,[\"Ext. LMP\",\n",
    "            \"G\",\n",
    "            Gnames[i],\n",
    "            p_opt[i],\n",
    "            price,\n",
    "            Gpayments[i],\n",
    "            p_opt[i]*(price - c[i]) - cSU[i]*z_opt[i]+Gpayments[i],\n",
    "            ])\n",
    "end\n",
    "\n",
    "for i=1:Ncons\n",
    "    push!(out,[\n",
    "            \"Ext. LMP\",\n",
    "            \"C\",\n",
    "            Cnames[i],\n",
    "            d_opt[i],\n",
    "            price,\n",
    "            Cpayments[i]+addCpayments[i],\n",
    "            d_opt[i]*(b[i] - price)+Cpayments[i]+addCpayments[i]\n",
    "            ])\n",
    "end\n",
    "\n",
    "out"
   ]
  },
  {
   "cell_type": "code",
   "execution_count": 35,
   "metadata": {},
   "outputs": [
    {
     "data": {
      "text/html": [
       "<table class=\"data-frame\"><thead><tr><th></th><th>Approach</th><th>Balance</th><th>PaidByC</th><th>PaidToG</th><th>Surplus</th><th>Utility</th><th>Costs</th></tr></thead><tbody><tr><th>1</th><td>Ext. LMP</td><td>0.0</td><td>8400.0</td><td>8400.0</td><td>3830.0</td><td>11830.0</td><td>8000.0</td></tr></tbody></table>"
      ],
      "text/plain": [
       "1×7 DataFrames.DataFrame\n",
       "│ Row │ Approach │ Balance │ PaidByC │ PaidToG │ Surplus │ Utility │ Costs  │\n",
       "├─────┼──────────┼─────────┼─────────┼─────────┼─────────┼─────────┼────────┤\n",
       "│ 1   │ Ext. LMP │ 0.0     │ 8400.0  │ 8400.0  │ 3830.0  │ 11830.0 │ 8000.0 │"
      ]
     },
     "execution_count": 35,
     "metadata": {},
     "output_type": "execute_result"
    }
   ],
   "source": [
    "caseUpd = describeCase(\"Ext. LMP\", out,b,c,cSU)"
   ]
  },
  {
   "cell_type": "code",
   "execution_count": 36,
   "metadata": {},
   "outputs": [
    {
     "data": {
      "text/html": [
       "<table class=\"data-frame\"><thead><tr><th></th><th>Approach</th><th>Balance</th><th>PaidByC</th><th>PaidToG</th><th>Surplus</th><th>Utility</th><th>Costs</th></tr></thead><tbody><tr><th>1</th><td>Plain LMP</td><td>0.0</td><td>7800.0</td><td>7800.0</td><td>3830.0</td><td>11830.0</td><td>8000.0</td></tr><tr><th>2</th><td>IP</td><td>0.0</td><td>8000.0</td><td>8000.0</td><td>3830.0</td><td>11830.0</td><td>8000.0</td></tr><tr><th>3</th><td>IP+</td><td>0.0</td><td>8300.0</td><td>8300.0</td><td>3830.0</td><td>11830.0</td><td>8000.0</td></tr><tr><th>4</th><td>DPA</td><td>0.0</td><td>8522.22</td><td>8522.22</td><td>3830.0</td><td>11830.0</td><td>8000.0</td></tr><tr><th>5</th><td>Ext. LMP</td><td>0.0</td><td>8400.0</td><td>8400.0</td><td>3830.0</td><td>11830.0</td><td>8000.0</td></tr></tbody></table>"
      ],
      "text/plain": [
       "5×7 DataFrames.DataFrame\n",
       "│ Row │ Approach  │ Balance │ PaidByC │ PaidToG │ Surplus │ Utility │ Costs  │\n",
       "├─────┼───────────┼─────────┼─────────┼─────────┼─────────┼─────────┼────────┤\n",
       "│ 1   │ Plain LMP │ 0.0     │ 7800.0  │ 7800.0  │ 3830.0  │ 11830.0 │ 8000.0 │\n",
       "│ 2   │ IP        │ 0.0     │ 8000.0  │ 8000.0  │ 3830.0  │ 11830.0 │ 8000.0 │\n",
       "│ 3   │ IP+       │ 0.0     │ 8300.0  │ 8300.0  │ 3830.0  │ 11830.0 │ 8000.0 │\n",
       "│ 4   │ DPA       │ 0.0     │ 8522.22 │ 8522.22 │ 3830.0  │ 11830.0 │ 8000.0 │\n",
       "│ 5   │ Ext. LMP  │ 0.0     │ 8400.0  │ 8400.0  │ 3830.0  │ 11830.0 │ 8000.0 │"
      ]
     },
     "execution_count": 36,
     "metadata": {},
     "output_type": "execute_result"
    }
   ],
   "source": [
    "modelOutputs = vcat(modelOutputs,out)\n",
    "modelMetrics = vcat(modelMetrics, caseUpd)"
   ]
  },
  {
   "cell_type": "markdown",
   "metadata": {},
   "source": [
    "### VCG mechanism implementation"
   ]
  },
  {
   "cell_type": "markdown",
   "metadata": {},
   "source": [
    "The payment to each \"player\" should be equal to the externality it produces -- i.e. \n",
    "$$\n",
    "\\text{Payment}_i = \\sum_{j \\neq i} v_j(d^*, p^*, z^*) + h_i(v_{-i})\n",
    "$$"
   ]
  },
  {
   "cell_type": "markdown",
   "metadata": {},
   "source": [
    "#### VCG with Clarke Pivot Rule (non-balanced, payment = externality)\n",
    "Let us pay each player the amount, equaling to his externality on the rest of the system. I.e.:\n",
    "$$\n",
    "\\text{Payment}_i = \\text{MS}_{-i}(d^*,p^*,z^*) - \\text{MS}_{-i}^{\\text{opt}},\n",
    "$$\n",
    "the difference between the market surplus of all the players *but i-th player* at the _desired_ optimum,and the market surplus of the system at the _optimum_ *without the i-th player* (not necessarily corresponds to the desired optimum)."
   ]
  },
  {
   "cell_type": "code",
   "execution_count": 37,
   "metadata": {},
   "outputs": [],
   "source": [
    "## MS of all the rest players, but i'th, at the desired optimum\n",
    "\n",
    "GenMSmi = []\n",
    "ConMSmi = [] \n",
    "\n",
    "# generation\n",
    "for i=1:Ngen\n",
    "    push!(GenMSmi,sum([b[j]*d_opt[j] for j=1:Ncons])-\n",
    "        sum([(c[j]*p_opt[j]+(p_opt[j]>0)*cSU[j]) for j=1:Ngen if j!=i])) # generators' contribution\n",
    "end\n",
    "                \n",
    "# demand side\n",
    "for i=1:Ncons\n",
    "    push!(ConMSmi, sum([b[j]*d_opt[j] for j=1:Ncons if j!=i])- # consumers' contribution\n",
    "        sum([c[j]*p_opt[j]+(p_opt[j]>0)*cSU[j] for j=1:Ngen]))\n",
    "end"
   ]
  },
  {
   "cell_type": "code",
   "execution_count": 38,
   "metadata": {},
   "outputs": [
    {
     "name": "stdout",
     "output_type": "stream",
     "text": [
      "Status w/o generator A: Optimal\n",
      "Status w/o generator B: Optimal\n"
     ]
    },
    {
     "data": {
      "text/plain": [
       "2-element Array{Any,1}:\n",
       " 3530.0\n",
       " 1900.0"
      ]
     },
     "execution_count": 38,
     "metadata": {},
     "output_type": "execute_result"
    }
   ],
   "source": [
    "## MS at optimum without i-th player (generation)\n",
    "GenMS_opt_mi = []\n",
    "genmodel = []\n",
    "# for convenience -- restricted c, cSU:\n",
    "\n",
    "for g=1:Ngen\n",
    "   c_r = []\n",
    "   cSU_r = []\n",
    "   UC_gmi = JuMP.Model(solver=CbcSolver())\n",
    "\n",
    "    for i=1:Ngen\n",
    "        if i!=g\n",
    "            @variable(UC_gmi, p[i]>=0) # production\n",
    "            @variable(UC_gmi, 0<= z[i]<=1,Bin) # commitment \n",
    "            \n",
    "            push!(c_r,c[i]);\n",
    "            push!(cSU_r,cSU[i]);            \n",
    "        end\n",
    "    end\n",
    "    \n",
    "    @variable(UC_gmi, d[i=1:Ncons] >= 0, Cont) # consumption\n",
    "\n",
    "    for i=1:Ngen\n",
    "        if i!=g\n",
    "            @constraint(UC_gmi, p[i] >= Pmin[i]*z[i]) # min production\n",
    "            @constraint(UC_gmi, p[i] <= Pmax[i]*z[i]) # max production\n",
    "        end                            \n",
    "    end\n",
    "                        \n",
    "    for j=1:Ncons\n",
    "        @constraint(UC_gmi, d[j] <= Dmax[j])\n",
    "    end\n",
    "\n",
    "    @constraint(UC_gmi, Balance, sum(p[i] for i=1:Ngen if i!=g) == sum(d[j] for j=1:Ncons))\n",
    "\n",
    "    @objective(UC_gmi, :Max, sum(b[i]*d[i] for i=1:Ncons) - sum(c[j]*p[j]+cSU[j]*z[j] for j=1:Ngen if j!=g))\n",
    "\n",
    "    status = solve(UC_gmi)\n",
    "    push!(genmodel,UC_gmi)\n",
    "    println(\"Status w/o generator \", Gnames[g],\": \", status);\n",
    "    push!(GenMS_opt_mi,sum(b .* getvalue(d)) - sum(c_r[:] .* getvalue(p)[:] + getvalue(z)[:] .* cSU_r[:]))\n",
    "end\n",
    "\n",
    "GenMS_opt_mi"
   ]
  },
  {
   "cell_type": "code",
   "execution_count": 39,
   "metadata": {},
   "outputs": [
    {
     "name": "stdout",
     "output_type": "stream",
     "text": [
      "Status w/o consumer 1: Optimal\n",
      "Status w/o consumer 2: Optimal\n"
     ]
    },
    {
     "data": {
      "text/plain": [
       "2-element Array{Any,1}:\n",
       "  130.0\n",
       " 3800.0"
      ]
     },
     "execution_count": 39,
     "metadata": {},
     "output_type": "execute_result"
    }
   ],
   "source": [
    "## MS at optimum without i-th player (demand side)\n",
    "ConMS_opt_mi = []\n",
    "\n",
    "# for convenience -- restricted b:\n",
    "for ex=1:Ncons\n",
    "    b_r = Float64[]\n",
    "    UC_dmi = JuMP.Model(solver=CbcSolver())\n",
    "\n",
    "    @variable(UC_dmi, p[i=1:Ngen]>=0) # production\n",
    "    @variable(UC_dmi, 0<= z[i=1:Ngen]<=1,Bin) # commitment     \n",
    "    \n",
    "    for i=1:Ncons\n",
    "        if i!=ex\n",
    "            @variable(UC_dmi, d[i] >= 0, Cont) # consumption\n",
    "            push!(b_r,b[i])\n",
    "        end\n",
    "    end\n",
    "    \n",
    "    for i=1:Ngen\n",
    "        @constraint(UC_dmi, p[i] >= Pmin[i]*z[i]) # min production\n",
    "        @constraint(UC_dmi, p[i] <= Pmax[i]*z[i]) # max production\n",
    "    end\n",
    "                        \n",
    "    for j=1:Ncons\n",
    "        if j!=ex\n",
    "            @constraint(UC_dmi, d[j] <= Dmax[j])\n",
    "        end\n",
    "    end\n",
    "\n",
    "    @constraint(UC_dmi, Balance, sum(p[i] for i=1:Ngen) == sum(d[j] for j=1:Ncons if j!=ex))\n",
    "\n",
    "    @objective(UC_dmi, :Max, sum(b[i]*d[i] for i=1:Ncons if i!=ex) - sum(c[j]*p[j]+cSU[j]*z[j] for j=1:Ngen))\n",
    "\n",
    "    status = solve(UC_dmi)\n",
    "    println(\"Status w/o consumer \", Cnames[ex],\": \", status);\n",
    "    \n",
    "    push!(ConMS_opt_mi,sum(b_r[:] .* getvalue(d)[:]) - sum(c .* getvalue(p)) - sum(getvalue(z) .* cSU))\n",
    "end\n",
    "\n",
    "ConMS_opt_mi"
   ]
  },
  {
   "cell_type": "code",
   "execution_count": 40,
   "metadata": {},
   "outputs": [
    {
     "name": "stdout",
     "output_type": "stream",
     "text": [
      "Payments to generators:[2400.0, 7830.0]\n",
      "Payments to consumers:[-6300.0, -1800.0]\n"
     ]
    }
   ],
   "source": [
    "## Calculate payments\n",
    "Gpayments = GenMSmi - GenMS_opt_mi\n",
    "Cpayments = ConMSmi - ConMS_opt_mi\n",
    "\n",
    "println(\"Payments to generators:\", Gpayments)\n",
    "println(\"Payments to consumers:\", Cpayments)"
   ]
  },
  {
   "cell_type": "code",
   "execution_count": 41,
   "metadata": {},
   "outputs": [
    {
     "data": {
      "text/html": [
       "<table class=\"data-frame\"><thead><tr><th></th><th>model</th><th>aType</th><th>aName</th><th>vol</th><th>price</th><th>lumpSumToAgent</th><th>Profit</th></tr></thead><tbody><tr><th>1</th><td>VCG</td><td>G</td><td>A</td><td>40.0</td><td>0.0</td><td>2400.0</td><td>300.0</td></tr><tr><th>2</th><td>VCG</td><td>G</td><td>B</td><td>90.0</td><td>0.0</td><td>7830.0</td><td>1930.0</td></tr><tr><th>3</th><td>VCG</td><td>C</td><td>1</td><td>100.0</td><td>0.0</td><td>-6300.0</td><td>3700.0</td></tr><tr><th>4</th><td>VCG</td><td>C</td><td>2</td><td>30.0</td><td>0.0</td><td>-1800.0</td><td>30.0</td></tr></tbody></table>"
      ],
      "text/plain": [
       "4×7 DataFrames.DataFrame\n",
       "│ Row │ model │ aType │ aName │ vol   │ price │ lumpSumToAgent │ Profit │\n",
       "├─────┼───────┼───────┼───────┼───────┼───────┼────────────────┼────────┤\n",
       "│ 1   │ VCG   │ G     │ A     │ 40.0  │ 0.0   │ 2400.0         │ 300.0  │\n",
       "│ 2   │ VCG   │ G     │ B     │ 90.0  │ 0.0   │ 7830.0         │ 1930.0 │\n",
       "│ 3   │ VCG   │ C     │ 1     │ 100.0 │ 0.0   │ -6300.0        │ 3700.0 │\n",
       "│ 4   │ VCG   │ C     │ 2     │ 30.0  │ 0.0   │ -1800.0        │ 30.0   │"
      ]
     },
     "execution_count": 41,
     "metadata": {},
     "output_type": "execute_result"
    }
   ],
   "source": [
    "out = @fmtDF\n",
    "\n",
    "price = 0\n",
    "\n",
    "for i=1:Ngen\n",
    "            push!(out,[\"VCG\",\n",
    "            \"G\",\n",
    "            Gnames[i],\n",
    "            p_opt[i],\n",
    "            price,\n",
    "            Gpayments[i],\n",
    "            p_opt[i]*(price - c[i]) - cSU[i]*z_opt[i]+Gpayments[i],\n",
    "            ])\n",
    "end\n",
    "\n",
    "for i=1:Ncons\n",
    "    push!(out,[\n",
    "            \"VCG\",\n",
    "            \"C\",\n",
    "            Cnames[i],\n",
    "            d_opt[i],\n",
    "            price,\n",
    "            Cpayments[i],\n",
    "            d_opt[i]*(b[i] - price)+Cpayments[i]\n",
    "            ])\n",
    "end\n",
    "\n",
    "out"
   ]
  },
  {
   "cell_type": "code",
   "execution_count": 42,
   "metadata": {},
   "outputs": [
    {
     "data": {
      "text/html": [
       "<table class=\"data-frame\"><thead><tr><th></th><th>Approach</th><th>Balance</th><th>PaidByC</th><th>PaidToG</th><th>Surplus</th><th>Utility</th><th>Costs</th></tr></thead><tbody><tr><th>1</th><td>VCG</td><td>-2130.0</td><td>8100.0</td><td>10230.0</td><td>3830.0</td><td>11830.0</td><td>8000.0</td></tr></tbody></table>"
      ],
      "text/plain": [
       "1×7 DataFrames.DataFrame\n",
       "│ Row │ Approach │ Balance │ PaidByC │ PaidToG │ Surplus │ Utility │ Costs  │\n",
       "├─────┼──────────┼─────────┼─────────┼─────────┼─────────┼─────────┼────────┤\n",
       "│ 1   │ VCG      │ -2130.0 │ 8100.0  │ 10230.0 │ 3830.0  │ 11830.0 │ 8000.0 │"
      ]
     },
     "execution_count": 42,
     "metadata": {},
     "output_type": "execute_result"
    }
   ],
   "source": [
    "caseUpd = describeCase(\"VCG\", out,b,c,cSU)"
   ]
  },
  {
   "cell_type": "code",
   "execution_count": 43,
   "metadata": {},
   "outputs": [
    {
     "data": {
      "text/html": [
       "<table class=\"data-frame\"><thead><tr><th></th><th>Approach</th><th>Balance</th><th>PaidByC</th><th>PaidToG</th><th>Surplus</th><th>Utility</th><th>Costs</th></tr></thead><tbody><tr><th>1</th><td>Plain LMP</td><td>0.0</td><td>7800.0</td><td>7800.0</td><td>3830.0</td><td>11830.0</td><td>8000.0</td></tr><tr><th>2</th><td>IP</td><td>0.0</td><td>8000.0</td><td>8000.0</td><td>3830.0</td><td>11830.0</td><td>8000.0</td></tr><tr><th>3</th><td>IP+</td><td>0.0</td><td>8300.0</td><td>8300.0</td><td>3830.0</td><td>11830.0</td><td>8000.0</td></tr><tr><th>4</th><td>DPA</td><td>0.0</td><td>8522.22</td><td>8522.22</td><td>3830.0</td><td>11830.0</td><td>8000.0</td></tr><tr><th>5</th><td>Ext. LMP</td><td>0.0</td><td>8400.0</td><td>8400.0</td><td>3830.0</td><td>11830.0</td><td>8000.0</td></tr><tr><th>6</th><td>VCG</td><td>-2130.0</td><td>8100.0</td><td>10230.0</td><td>3830.0</td><td>11830.0</td><td>8000.0</td></tr></tbody></table>"
      ],
      "text/plain": [
       "6×7 DataFrames.DataFrame\n",
       "│ Row │ Approach  │ Balance │ PaidByC │ PaidToG │ Surplus │ Utility │ Costs  │\n",
       "├─────┼───────────┼─────────┼─────────┼─────────┼─────────┼─────────┼────────┤\n",
       "│ 1   │ Plain LMP │ 0.0     │ 7800.0  │ 7800.0  │ 3830.0  │ 11830.0 │ 8000.0 │\n",
       "│ 2   │ IP        │ 0.0     │ 8000.0  │ 8000.0  │ 3830.0  │ 11830.0 │ 8000.0 │\n",
       "│ 3   │ IP+       │ 0.0     │ 8300.0  │ 8300.0  │ 3830.0  │ 11830.0 │ 8000.0 │\n",
       "│ 4   │ DPA       │ 0.0     │ 8522.22 │ 8522.22 │ 3830.0  │ 11830.0 │ 8000.0 │\n",
       "│ 5   │ Ext. LMP  │ 0.0     │ 8400.0  │ 8400.0  │ 3830.0  │ 11830.0 │ 8000.0 │\n",
       "│ 6   │ VCG       │ -2130.0 │ 8100.0  │ 10230.0 │ 3830.0  │ 11830.0 │ 8000.0 │"
      ]
     },
     "execution_count": 43,
     "metadata": {},
     "output_type": "execute_result"
    }
   ],
   "source": [
    "modelOutputs = vcat(modelOutputs,out)\n",
    "modelMetrics = vcat(modelMetrics, caseUpd)"
   ]
  },
  {
   "cell_type": "code",
   "execution_count": null,
   "metadata": {},
   "outputs": [],
   "source": []
  },
  {
   "cell_type": "markdown",
   "metadata": {},
   "source": [
    "### Summary"
   ]
  },
  {
   "cell_type": "code",
   "execution_count": 44,
   "metadata": {},
   "outputs": [
    {
     "data": {
      "text/html": [
       "<table class=\"data-frame\"><thead><tr><th></th><th>model</th><th>aType</th><th>aName</th><th>vol</th><th>price</th><th>lumpSumToAgent</th><th>Profit</th></tr></thead><tbody><tr><th>1</th><td>Plain LMP</td><td>G</td><td>A</td><td>40.0</td><td>60.0</td><td>0.0</td><td>300.0</td></tr><tr><th>2</th><td>Plain LMP</td><td>G</td><td>B</td><td>90.0</td><td>60.0</td><td>0.0</td><td>-500.0</td></tr><tr><th>3</th><td>Plain LMP</td><td>C</td><td>1</td><td>100.0</td><td>60.0</td><td>0.0</td><td>4000.0</td></tr><tr><th>4</th><td>Plain LMP</td><td>C</td><td>2</td><td>30.0</td><td>60.0</td><td>0.0</td><td>30.0</td></tr><tr><th>5</th><td>IP</td><td>G</td><td>A</td><td>40.0</td><td>60.0</td><td>-300.0</td><td>0.0</td></tr><tr><th>6</th><td>IP</td><td>G</td><td>B</td><td>90.0</td><td>60.0</td><td>500.0</td><td>0.0</td></tr><tr><th>7</th><td>IP</td><td>C</td><td>1</td><td>100.0</td><td>60.0</td><td>-170.0</td><td>3830.0</td></tr><tr><th>8</th><td>IP</td><td>C</td><td>2</td><td>30.0</td><td>60.0</td><td>-30.0</td><td>0.0</td></tr><tr><th>9</th><td>IP+</td><td>G</td><td>A</td><td>40.0</td><td>60.0</td><td>0.0</td><td>300.0</td></tr><tr><th>10</th><td>IP+</td><td>G</td><td>B</td><td>90.0</td><td>60.0</td><td>500.0</td><td>0.0</td></tr><tr><th>11</th><td>IP+</td><td>C</td><td>1</td><td>100.0</td><td>60.0</td><td>-470.0</td><td>3530.0</td></tr><tr><th>12</th><td>IP+</td><td>C</td><td>2</td><td>30.0</td><td>60.0</td><td>-30.0</td><td>0.0</td></tr><tr><th>13</th><td>DPA</td><td>G</td><td>A</td><td>40.0</td><td>65.5556</td><td>0.0</td><td>522.222</td></tr><tr><th>14</th><td>DPA</td><td>G</td><td>B</td><td>90.0</td><td>65.5556</td><td>0.0</td><td>0.0</td></tr><tr><th>15</th><td>DPA</td><td>C</td><td>1</td><td>100.0</td><td>65.5556</td><td>-136.667</td><td>3307.78</td></tr><tr><th>16</th><td>DPA</td><td>C</td><td>2</td><td>30.0</td><td>65.5556</td><td>136.667</td><td>0.0</td></tr><tr><th>17</th><td>Ext. LMP</td><td>G</td><td>A</td><td>40.0</td><td>62.5</td><td>0.0</td><td>400.0</td></tr><tr><th>18</th><td>Ext. LMP</td><td>G</td><td>B</td><td>90.0</td><td>62.5</td><td>275.0</td><td>0.0</td></tr><tr><th>19</th><td>Ext. LMP</td><td>C</td><td>1</td><td>100.0</td><td>62.5</td><td>-320.0</td><td>3430.0</td></tr><tr><th>20</th><td>Ext. LMP</td><td>C</td><td>2</td><td>30.0</td><td>62.5</td><td>45.0</td><td>0.0</td></tr><tr><th>21</th><td>VCG</td><td>G</td><td>A</td><td>40.0</td><td>0.0</td><td>2400.0</td><td>300.0</td></tr><tr><th>22</th><td>VCG</td><td>G</td><td>B</td><td>90.0</td><td>0.0</td><td>7830.0</td><td>1930.0</td></tr><tr><th>23</th><td>VCG</td><td>C</td><td>1</td><td>100.0</td><td>0.0</td><td>-6300.0</td><td>3700.0</td></tr><tr><th>24</th><td>VCG</td><td>C</td><td>2</td><td>30.0</td><td>0.0</td><td>-1800.0</td><td>30.0</td></tr></tbody></table>"
      ],
      "text/plain": [
       "24×7 DataFrames.DataFrame\n",
       "│ Row │ model     │ aType │ aName │ vol   │ price   │ lumpSumToAgent │ Profit  │\n",
       "├─────┼───────────┼───────┼───────┼───────┼─────────┼────────────────┼─────────┤\n",
       "│ 1   │ Plain LMP │ G     │ A     │ 40.0  │ 60.0    │ 0.0            │ 300.0   │\n",
       "│ 2   │ Plain LMP │ G     │ B     │ 90.0  │ 60.0    │ 0.0            │ -500.0  │\n",
       "│ 3   │ Plain LMP │ C     │ 1     │ 100.0 │ 60.0    │ 0.0            │ 4000.0  │\n",
       "│ 4   │ Plain LMP │ C     │ 2     │ 30.0  │ 60.0    │ 0.0            │ 30.0    │\n",
       "│ 5   │ IP        │ G     │ A     │ 40.0  │ 60.0    │ -300.0         │ 0.0     │\n",
       "│ 6   │ IP        │ G     │ B     │ 90.0  │ 60.0    │ 500.0          │ 0.0     │\n",
       "│ 7   │ IP        │ C     │ 1     │ 100.0 │ 60.0    │ -170.0         │ 3830.0  │\n",
       "│ 8   │ IP        │ C     │ 2     │ 30.0  │ 60.0    │ -30.0          │ 0.0     │\n",
       "│ 9   │ IP+       │ G     │ A     │ 40.0  │ 60.0    │ 0.0            │ 300.0   │\n",
       "│ 10  │ IP+       │ G     │ B     │ 90.0  │ 60.0    │ 500.0          │ 0.0     │\n",
       "│ 11  │ IP+       │ C     │ 1     │ 100.0 │ 60.0    │ -470.0         │ 3530.0  │\n",
       "│ 12  │ IP+       │ C     │ 2     │ 30.0  │ 60.0    │ -30.0          │ 0.0     │\n",
       "│ 13  │ DPA       │ G     │ A     │ 40.0  │ 65.5556 │ 0.0            │ 522.222 │\n",
       "│ 14  │ DPA       │ G     │ B     │ 90.0  │ 65.5556 │ 0.0            │ 0.0     │\n",
       "│ 15  │ DPA       │ C     │ 1     │ 100.0 │ 65.5556 │ -136.667       │ 3307.78 │\n",
       "│ 16  │ DPA       │ C     │ 2     │ 30.0  │ 65.5556 │ 136.667        │ 0.0     │\n",
       "│ 17  │ Ext. LMP  │ G     │ A     │ 40.0  │ 62.5    │ 0.0            │ 400.0   │\n",
       "│ 18  │ Ext. LMP  │ G     │ B     │ 90.0  │ 62.5    │ 275.0          │ 0.0     │\n",
       "│ 19  │ Ext. LMP  │ C     │ 1     │ 100.0 │ 62.5    │ -320.0         │ 3430.0  │\n",
       "│ 20  │ Ext. LMP  │ C     │ 2     │ 30.0  │ 62.5    │ 45.0           │ 0.0     │\n",
       "│ 21  │ VCG       │ G     │ A     │ 40.0  │ 0.0     │ 2400.0         │ 300.0   │\n",
       "│ 22  │ VCG       │ G     │ B     │ 90.0  │ 0.0     │ 7830.0         │ 1930.0  │\n",
       "│ 23  │ VCG       │ C     │ 1     │ 100.0 │ 0.0     │ -6300.0        │ 3700.0  │\n",
       "│ 24  │ VCG       │ C     │ 2     │ 30.0  │ 0.0     │ -1800.0        │ 30.0    │"
      ]
     },
     "execution_count": 44,
     "metadata": {},
     "output_type": "execute_result"
    }
   ],
   "source": [
    "modelOutputs"
   ]
  },
  {
   "cell_type": "code",
   "execution_count": 45,
   "metadata": {
    "scrolled": true
   },
   "outputs": [
    {
     "data": {
      "text/html": [
       "<table class=\"data-frame\"><thead><tr><th></th><th>Approach</th><th>Balance</th><th>PaidByC</th><th>PaidToG</th><th>Surplus</th><th>Utility</th><th>Costs</th></tr></thead><tbody><tr><th>1</th><td>Plain LMP</td><td>0.0</td><td>7800.0</td><td>7800.0</td><td>3830.0</td><td>11830.0</td><td>8000.0</td></tr><tr><th>2</th><td>IP</td><td>0.0</td><td>8000.0</td><td>8000.0</td><td>3830.0</td><td>11830.0</td><td>8000.0</td></tr><tr><th>3</th><td>IP+</td><td>0.0</td><td>8300.0</td><td>8300.0</td><td>3830.0</td><td>11830.0</td><td>8000.0</td></tr><tr><th>4</th><td>DPA</td><td>0.0</td><td>8522.22</td><td>8522.22</td><td>3830.0</td><td>11830.0</td><td>8000.0</td></tr><tr><th>5</th><td>Ext. LMP</td><td>0.0</td><td>8400.0</td><td>8400.0</td><td>3830.0</td><td>11830.0</td><td>8000.0</td></tr><tr><th>6</th><td>VCG</td><td>-2130.0</td><td>8100.0</td><td>10230.0</td><td>3830.0</td><td>11830.0</td><td>8000.0</td></tr></tbody></table>"
      ],
      "text/plain": [
       "6×7 DataFrames.DataFrame\n",
       "│ Row │ Approach  │ Balance │ PaidByC │ PaidToG │ Surplus │ Utility │ Costs  │\n",
       "├─────┼───────────┼─────────┼─────────┼─────────┼─────────┼─────────┼────────┤\n",
       "│ 1   │ Plain LMP │ 0.0     │ 7800.0  │ 7800.0  │ 3830.0  │ 11830.0 │ 8000.0 │\n",
       "│ 2   │ IP        │ 0.0     │ 8000.0  │ 8000.0  │ 3830.0  │ 11830.0 │ 8000.0 │\n",
       "│ 3   │ IP+       │ 0.0     │ 8300.0  │ 8300.0  │ 3830.0  │ 11830.0 │ 8000.0 │\n",
       "│ 4   │ DPA       │ 0.0     │ 8522.22 │ 8522.22 │ 3830.0  │ 11830.0 │ 8000.0 │\n",
       "│ 5   │ Ext. LMP  │ 0.0     │ 8400.0  │ 8400.0  │ 3830.0  │ 11830.0 │ 8000.0 │\n",
       "│ 6   │ VCG       │ -2130.0 │ 8100.0  │ 10230.0 │ 3830.0  │ 11830.0 │ 8000.0 │"
      ]
     },
     "execution_count": 45,
     "metadata": {},
     "output_type": "execute_result"
    }
   ],
   "source": [
    "modelMetrics"
   ]
  },
  {
   "cell_type": "markdown",
   "metadata": {},
   "source": [
    "### Case metrics\n",
    "Let us describe, how do we compare cases / pricing approaches"
   ]
  },
  {
   "cell_type": "markdown",
   "metadata": {},
   "source": [
    "#### Price vs. out-of-market corrections\n",
    "The key question is how to measure out-of-market corrections. As long as there might be all sorts of strange payments, we calculated this as an average absolute out-of-market payment per kWh weighted by volumes, including **all transactions** -- i.e. twice (for generator and for consumer);"
   ]
  },
  {
   "cell_type": "code",
   "execution_count": 46,
   "metadata": {},
   "outputs": [
    {
     "data": {
      "text/plain": [
       "getPricing (generic function with 1 method)"
      ]
     },
     "execution_count": 46,
     "metadata": {},
     "output_type": "execute_result"
    }
   ],
   "source": [
    "function getPricing(modelOuts)\n",
    "    OMCs = DataFrame(case = String[], price = Float64[], OMC=Float64[]);\n",
    "    cases = unique(modelOuts[:model][:]);\n",
    "    for case in cases\n",
    "        caseOut = @where(modelOuts, .|(:model .== case));\n",
    "        \n",
    "        vols = sum(caseOut[:vol][:]);\n",
    "        OMC = sum(abs.(caseOut[:lumpSumToAgent][:])) / vols;\n",
    "        price = sum(caseOut[:price] .* caseOut[:vol]) / vols;\n",
    "            \n",
    "        push!(OMCs,[case, price, OMC])\n",
    "    end\n",
    "    \n",
    "    return OMCs;\n",
    "end"
   ]
  },
  {
   "cell_type": "code",
   "execution_count": 47,
   "metadata": {},
   "outputs": [
    {
     "data": {
      "text/html": [
       "<table class=\"data-frame\"><thead><tr><th></th><th>case</th><th>price</th><th>OMC</th></tr></thead><tbody><tr><th>1</th><td>Plain LMP</td><td>60.0</td><td>0.0</td></tr><tr><th>2</th><td>IP</td><td>60.0</td><td>3.84615</td></tr><tr><th>3</th><td>IP+</td><td>60.0</td><td>3.84615</td></tr><tr><th>4</th><td>DPA</td><td>65.5556</td><td>1.05128</td></tr><tr><th>5</th><td>Ext. LMP</td><td>62.5</td><td>2.46154</td></tr><tr><th>6</th><td>VCG</td><td>0.0</td><td>70.5</td></tr></tbody></table>"
      ],
      "text/plain": [
       "6×3 DataFrames.DataFrame\n",
       "│ Row │ case      │ price   │ OMC     │\n",
       "├─────┼───────────┼─────────┼─────────┤\n",
       "│ 1   │ Plain LMP │ 60.0    │ 0.0     │\n",
       "│ 2   │ IP        │ 60.0    │ 3.84615 │\n",
       "│ 3   │ IP+       │ 60.0    │ 3.84615 │\n",
       "│ 4   │ DPA       │ 65.5556 │ 1.05128 │\n",
       "│ 5   │ Ext. LMP  │ 62.5    │ 2.46154 │\n",
       "│ 6   │ VCG       │ 0.0     │ 70.5    │"
      ]
     },
     "execution_count": 47,
     "metadata": {},
     "output_type": "execute_result"
    }
   ],
   "source": [
    "getPricing(modelOutputs)"
   ]
  },
  {
   "cell_type": "markdown",
   "metadata": {},
   "source": [
    "#### Welfare distribution\n",
    "This is relatively simple -- we just want to compare generators' costs coverage vs. utility per USD paid for consumers."
   ]
  },
  {
   "cell_type": "code",
   "execution_count": 48,
   "metadata": {},
   "outputs": [
    {
     "data": {
      "text/plain": [
       "getWelfareDistrib (generic function with 1 method)"
      ]
     },
     "execution_count": 48,
     "metadata": {},
     "output_type": "execute_result"
    }
   ],
   "source": [
    "function getWelfareDistrib(mMetrics)\n",
    "    WF = mMetrics[:, [:Approach]];\n",
    "    WF[:costsCoverage] = mMetrics[:PaidToG] ./ mMetrics[:Costs];\n",
    "    WF[:utilityPerUSD] = mMetrics[:Utility] ./ mMetrics[:PaidByC];\n",
    "    return WF;\n",
    "end "
   ]
  },
  {
   "cell_type": "code",
   "execution_count": 49,
   "metadata": {},
   "outputs": [
    {
     "data": {
      "text/html": [
       "<table class=\"data-frame\"><thead><tr><th></th><th>Approach</th><th>costsCoverage</th><th>utilityPerUSD</th></tr></thead><tbody><tr><th>1</th><td>Plain LMP</td><td>0.975</td><td>1.51667</td></tr><tr><th>2</th><td>IP</td><td>1.0</td><td>1.47875</td></tr><tr><th>3</th><td>IP+</td><td>1.0375</td><td>1.4253</td></tr><tr><th>4</th><td>DPA</td><td>1.06528</td><td>1.38814</td></tr><tr><th>5</th><td>Ext. LMP</td><td>1.05</td><td>1.40833</td></tr><tr><th>6</th><td>VCG</td><td>1.27875</td><td>1.46049</td></tr></tbody></table>"
      ],
      "text/plain": [
       "6×3 DataFrames.DataFrame\n",
       "│ Row │ Approach  │ costsCoverage │ utilityPerUSD │\n",
       "├─────┼───────────┼───────────────┼───────────────┤\n",
       "│ 1   │ Plain LMP │ 0.975         │ 1.51667       │\n",
       "│ 2   │ IP        │ 1.0           │ 1.47875       │\n",
       "│ 3   │ IP+       │ 1.0375        │ 1.4253        │\n",
       "│ 4   │ DPA       │ 1.06528       │ 1.38814       │\n",
       "│ 5   │ Ext. LMP  │ 1.05          │ 1.40833       │\n",
       "│ 6   │ VCG       │ 1.27875       │ 1.46049       │"
      ]
     },
     "execution_count": 49,
     "metadata": {},
     "output_type": "execute_result"
    }
   ],
   "source": [
    "getWelfareDistrib(modelMetrics)"
   ]
  },
  {
   "cell_type": "markdown",
   "metadata": {},
   "source": [
    "### Figures for one-node case"
   ]
  },
  {
   "cell_type": "code",
   "execution_count": 59,
   "metadata": {},
   "outputs": [
    {
     "data": {
      "text/plain": [
       "Plots.PyPlotBackend()"
      ]
     },
     "execution_count": 59,
     "metadata": {},
     "output_type": "execute_result"
    }
   ],
   "source": [
    "using Plots\n",
    "pyplot()"
   ]
  },
  {
   "cell_type": "code",
   "execution_count": 51,
   "metadata": {},
   "outputs": [],
   "source": [
    "pricingDF = getPricing(modelOutputs);\n",
    "pricingDF = @where(pricingDF, .|(:case .!= \"VCG\"));\n",
    "welfareDF = getWelfareDistrib(modelMetrics);"
   ]
  },
  {
   "cell_type": "code",
   "execution_count": 140,
   "metadata": {},
   "outputs": [
    {
     "data": {
      "image/png": "[encoded data removed]",
      "text/plain": [
       "PyPlot.Figure(PyObject <Figure size 1280x720 with 1 Axes>)"
      ]
     },
     "execution_count": 140,
     "metadata": {},
     "output_type": "execute_result"
    }
   ],
   "source": [
    "PyPlot.close()\n",
    "PyPlot.figure(\"figWelfare\", figsize=(16,9),dpi=80)\n",
    "PyPlot.scatter(x=welfareDF[:utilityPerUSD],y=welfareDF[:costsCoverage],color=\"blue\")\n",
    "\n",
    "for i=1:size(welfareDF,1)\n",
    "    PyPlot.annotate(welfareDF[:Approach][i],xy=[welfareDF[:utilityPerUSD][i]; welfareDF[:costsCoverage][i]])\n",
    "end\n",
    "\n",
    "VCG = welfareDF[welfareDF[:Approach] .== \"VCG\",:]\n",
    "\n",
    "PyPlot.annotate(\"Not balanced\", xy=[0.999*VCG[:utilityPerUSD]; 0.999*VCG[:costsCoverage]],\n",
    "    xytext=[ 0.98*VCG[:utilityPerUSD];0.98*VCG[:costsCoverage] ],\n",
    "    arrowprops = Dict(\"facecolor\" => \"red\"))\n",
    "\n",
    "PyPlot.title(\"Welfare allocation\")\n",
    "PyPlot.xlabel(\"Utility per USD paid, units\")\n",
    "PyPlot.ylabel(\"Generators' costs coverage\")\n",
    "PyPlot.grid(\"on\")\n",
    "PyPlot.gcf()"
   ]
  },
  {
   "cell_type": "code",
   "execution_count": 119,
   "metadata": {},
   "outputs": [
    {
     "data": {
      "text/html": [
       "<table class=\"data-frame\"><thead><tr><th></th><th>Approach</th><th>costsCoverage</th><th>utilityPerUSD</th></tr></thead><tbody><tr><th>1</th><td>VCG</td><td>1.27875</td><td>1.46049</td></tr></tbody></table>"
      ],
      "text/plain": [
       "1×3 DataFrames.DataFrame\n",
       "│ Row │ Approach │ costsCoverage │ utilityPerUSD │\n",
       "├─────┼──────────┼───────────────┼───────────────┤\n",
       "│ 1   │ VCG      │ 1.27875       │ 1.46049       │"
      ]
     },
     "execution_count": 119,
     "metadata": {},
     "output_type": "execute_result"
    }
   ],
   "source": []
  },
  {
   "cell_type": "code",
   "execution_count": 106,
   "metadata": {},
   "outputs": [
    {
     "data": {
      "image/png": "[encoded data removed]",
      "text/plain": [
       "PyPlot.Figure(PyObject <Figure size 1280x720 with 1 Axes>)"
      ]
     },
     "execution_count": 106,
     "metadata": {},
     "output_type": "execute_result"
    }
   ],
   "source": [
    "PyPlot.close()\n",
    "PyPlot.figure(\"figPricing\", figsize=(16,9),dpi=80)\n",
    "PyPlot.scatter(x=pricingDF[:OMC],y=pricingDF[:price],color=\"blue\")\n",
    "\n",
    "for i=1:size(pricingDF,1)\n",
    "    PyPlot.annotate(pricingDF[:case][i],xy=[pricingDF[:OMC][i]; pricingDF[:price][i]])\n",
    "end\n",
    "\n",
    "PyPlot.title(\"Pricing properties\")\n",
    "PyPlot.xlabel(\"Out of market corrections, USD / kWh, average abs.\")\n",
    "PyPlot.ylabel(\"Price\")\n",
    "PyPlot.grid(\"on\")\n",
    "PyPlot.gcf()"
   ]
  }
 ],
 "metadata": {
  "kernelspec": {
   "display_name": "Julia 0.6.4",
   "language": "julia",
   "name": "julia-0.6"
  },
  "language_info": {
   "file_extension": ".jl",
   "mimetype": "application/julia",
   "name": "julia",
   "version": "0.6.4"
  },
  "toc": {
   "base_numbering": 1,
   "nav_menu": {},
   "number_sections": true,
   "sideBar": true,
   "skip_h1_title": true,
   "title_cell": "Table of Contents",
   "title_sidebar": "Contents",
   "toc_cell": true,
   "toc_position": {
    "height": "calc(100% - 180px)",
    "left": "10px",
    "top": "150px",
    "width": "305px"
   },
   "toc_section_display": true,
   "toc_window_display": true
  }
 },
 "nbformat": 4,
 "nbformat_minor": 2
}
