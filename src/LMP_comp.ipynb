{
 "cells": [
  {
   "cell_type": "markdown",
   "metadata": {},
   "source": [
    "# Comparison of different approaches to LMP setting"
   ]
  },
  {
   "cell_type": "markdown",
   "metadata": {},
   "source": [
    "## Discussion\n",
    "### General notes\n",
    "- it is more or less clear how to \"unpack\" a network topology\n",
    "- the IEEE 1888 RTS test case is [here](https://www2.ee.washington.edu/research/pstca/pf118/pg_tca118bus.htm). I.e. the [data](https://www2.ee.washington.edu/research/pstca/pf118/ieee118cdf.txt) are available, as well as [short](https://www2.ee.washington.edu/research/pstca/formats/cdf.txt) and [long](https://ieeexplore.ieee.org/document/4075293/) format descriptions. Note that there are some discrepancies between the two, but we'll manage, they are not terrible.\n",
    "\n",
    "### What is **done** by the moment:\n",
    "- a simple [data-parser](./IEEE_CDF_parser.jl), including a helper-function to unpack a Node-incidence matrix;\n",
    "- a simple model for the 3-node case just to test everything works as expected;\n",
    "   \n",
    "### Methodology-related questions\n",
    "\n",
    "Well, how exactly do we proceed?\n",
    "\n",
    "### Data-related questions:\n",
    "    - how do we cook up the missing data; most importantly, Pmax, Dmax and utilities? I can imagine we can assume for starters that $P_\\max = P_\\text{actual}$ from the data file and the same logic for the demand. Maybe later we'll want to assume it is, say 20% more. What do we do with utilities? Is there any common practice for that? or just ensure it is high enough?\n",
    "    - are we planning to visualize the data somehow? I mean, put numbers on a real network scheme? Is there any standard for that in the field?\n",
    "---"
   ]
  },
  {
   "cell_type": "markdown",
   "metadata": {},
   "source": [
    "## Headers -- technical section"
   ]
  },
  {
   "cell_type": "code",
   "execution_count": 1,
   "metadata": {},
   "outputs": [],
   "source": [
    "using JuMP\n",
    "using Cbc \n",
    "using DataFrames\n",
    "\n",
    "import IEEE_CDF_parser # my data file parser\n"
   ]
  },
  {
   "cell_type": "markdown",
   "metadata": {},
   "source": [
    "## A 3-node test case\n",
    "### Case description"
   ]
  },
  {
   "cell_type": "code",
   "execution_count": 6,
   "metadata": {},
   "outputs": [
    {
     "data": {
      "text/html": [
       "<table class=\"data-frame\"><thead><tr><th></th><th>Arc</th><th>TapBusNo</th><th>ZBusNo</th><th>x</th></tr></thead><tbody><tr><th>1</th><td>a</td><td>1</td><td>2</td><td>0.1</td></tr><tr><th>2</th><td>b</td><td>2</td><td>3</td><td>0.1</td></tr><tr><th>3</th><td>c</td><td>1</td><td>3</td><td>0.1</td></tr></tbody></table>"
      ],
      "text/plain": [
       "3×4 DataFrames.DataFrame\n",
       "│ Row │ Arc │ TapBusNo │ ZBusNo │ x   │\n",
       "├─────┼─────┼──────────┼────────┼─────┤\n",
       "│ 1   │ a   │ 1        │ 2      │ 0.1 │\n",
       "│ 2   │ b   │ 2        │ 3      │ 0.1 │\n",
       "│ 3   │ c   │ 1        │ 3      │ 0.1 │"
      ]
     },
     "execution_count": 6,
     "metadata": {},
     "output_type": "execute_result"
    }
   ],
   "source": [
    "# Cook up come simple test data\n",
    "# three-bus system\n",
    "buses = DataFrame(BusNo = [1,2,3], # bus number\n",
    "                  Pmin = [0,0,0], # min supply\n",
    "                  Pmax = [10,5,0], # max supply\n",
    "                  Dmax = [0,0,7], # max demand\n",
    "                  b = [0,0,50], # consumers' utility per kWh\n",
    "                  C = [5,3,0], # costs per kWh\n",
    "                  cSU = [0,0,0]) # startup costs\n",
    "\n",
    "branches = DataFrame(Arc = [\"a\",\"b\",\"c\"], TapBusNo = [1, 2, 1], ZBusNo = [2,3,3], x=[0.1,0.1,0.1])\n"
   ]
  },
  {
   "cell_type": "markdown",
   "metadata": {},
   "source": [
    "Test case:\n",
    "![A simple three-node examplez](img/3node.png)"
   ]
  },
  {
   "cell_type": "code",
   "execution_count": 3,
   "metadata": {},
   "outputs": [
    {
     "data": {
      "text/plain": [
       "3×3 Array{Float64,2}:\n",
       " -1.0   0.0  -1.0\n",
       "  1.0  -1.0   0.0\n",
       "  0.0   1.0   1.0"
      ]
     },
     "execution_count": 3,
     "metadata": {},
     "output_type": "execute_result"
    }
   ],
   "source": [
    "# Make a node-arc incidence matrix\n",
    "\n",
    "NIM = IEEE_CDF_parser.makeNIMatrix(size(buses,1), branches)"
   ]
  },
  {
   "cell_type": "markdown",
   "metadata": {},
   "source": [
    "### UC Model description"
   ]
  },
  {
   "cell_type": "code",
   "execution_count": 4,
   "metadata": {},
   "outputs": [
    {
     "data": {
      "text/latex": [
       "$$ \\begin{alignat*}{1}\\max\\quad & 50 d_{3} - 5 p_{1} - 3 p_{2}\\\\\n",
       "\\text{Subject to} \\quad & p_{1} - f_{1} - f_{3} - d_{1} = 0\\\\\n",
       " & p_{1} \\geq 0\\\\\n",
       " & p_{1} - 10 z_{1} \\leq 0\\\\\n",
       " & d_{1} \\leq 0\\\\\n",
       " & p_{2} + f_{1} - f_{2} - d_{2} = 0\\\\\n",
       " & p_{2} \\geq 0\\\\\n",
       " & p_{2} - 5 z_{2} \\leq 0\\\\\n",
       " & d_{2} \\leq 0\\\\\n",
       " & p_{3} + f_{2} + f_{3} - d_{3} = 0\\\\\n",
       " & p_{3} \\geq 0\\\\\n",
       " & p_{3} \\leq 0\\\\\n",
       " & d_{3} \\leq 7\\\\\n",
       " & f_{1} - 10 θ_{1} + 10 θ_{2} = 0\\\\\n",
       " & f_{2} - 10 θ_{2} + 10 θ_{3} = 0\\\\\n",
       " & f_{3} - 10 θ_{1} + 10 θ_{3} = 0\\\\\n",
       " & θ_{1} = 0\\\\\n",
       " & -100 \\leq f_{l} \\leq 100 \\quad\\forall l \\in \\{1,2,3\\}\\\\\n",
       " & 0 \\leq p_{i} \\leq 10 \\quad\\forall i \\in \\{1,2,3\\}\\\\\n",
       " & 0 \\leq d_{i} \\leq 7 \\quad\\forall i \\in \\{1,2,3\\}\\\\\n",
       " & z_{i} \\in \\{0,1\\} \\quad\\forall i \\in \\{1,2,3\\}\\\\\n",
       " & -6.283185307179586 \\leq θ_{i} \\leq 6.283185307179586 \\quad\\forall i \\in \\{1,2,3\\}\\\\\n",
       "\\end{alignat*}\n",
       " $$"
      ],
      "text/plain": [
       "Maximization problem with:\n",
       " * 16 linear constraints\n",
       " * 15 variables: 3 binary\n",
       "Solver is CbcMathProg"
      ]
     },
     "execution_count": 4,
     "metadata": {},
     "output_type": "execute_result"
    }
   ],
   "source": [
    "## ================== OPF model definition =====================\n",
    "UC = JuMP.Model(solver=CbcSolver())\n",
    "Nbus = size(buses,1)\n",
    "Nbranches = size(branches,1)\n",
    "\n",
    "# constants\n",
    "const Fmax = 100\n",
    "Pmax = maximum(buses[:,:Pmax])\n",
    "Dmax = maximum(buses[:,:Dmax])\n",
    "\n",
    "@variable(UC, -Fmax <= f[l=1:Nbranches] <= Fmax) # flow through each branch l \\in Branches\n",
    "@variable(UC, 0 <= p[i=1:Nbus] <= Pmax, Cont) # production\n",
    "@variable(UC, 0<= d[i=1:Nbus] <= Dmax) # consumption\n",
    "@variable(UC, z[i=1:Nbus], Bin) # generators' commitment (binary)\n",
    "@variable(UC, -2*pi <= θ[i=1:Nbus] <= 2*pi) # phase angle\n",
    "\n",
    "for i=1:Nbus\n",
    "    @constraint(UC, p[i] + sum(NIM[i,l] * f[l] for l=1:Nbranches) == d[i]) # flow constraints\n",
    "    @constraint(UC, p[i] >= z[i]*buses[i,:Pmin]) # min production\n",
    "    @constraint(UC, p[i] <= z[i]*buses[i,:Pmax]) # max production\n",
    "\n",
    "    @constraint(UC, d[i] <= buses[i, :Dmax])\n",
    "end\n",
    "\n",
    "for i=1:Nbranches\n",
    "    @constraint(UC, f[i] == (1/branches[i,:x])*sum(-NIM[j,i]*θ[j] for j=1:Nbus)) # line flow expression, DC-approximation\n",
    "end\n",
    "\n",
    "@constraint(UC, θ[1] == 0) # slack node\n",
    "\n",
    "\n",
    "@objective(UC, :Max, sum(buses[i,:b]*d[i] for i=1:Nbus) - sum(buses[j,:C]*p[j]+buses[j,:cSU]*z[j] for j=1:Nbus))\n",
    "\n",
    "UC"
   ]
  },
  {
   "cell_type": "markdown",
   "metadata": {},
   "source": [
    "### Model solution"
   ]
  },
  {
   "cell_type": "code",
   "execution_count": 7,
   "metadata": {},
   "outputs": [
    {
     "name": "stderr",
     "output_type": "stream",
     "text": [
      "\u001b[1m\u001b[33mWARNING: \u001b[39m\u001b[22m\u001b[33mSolver does not appear to support hot-starts. Model will be built from scratch.\u001b[39m\n"
     ]
    },
    {
     "name": "stdout",
     "output_type": "stream",
     "text": [
      "Objective value = 325.0\n",
      "Actual demand = [0.0, 0.0, 7.0]\n",
      "Supply = [2.0, 5.0, 0.0]\n",
      "Commitment flag = [1.0, 1.0, 0.0]\n",
      "theta = [0.0, 0.1, -0.3]\n",
      "flows = [-1.0, 4.0, 3.0]\n",
      "Presolve 1 (-15) rows, 3 (-12) columns and 3 (-30) elements\n",
      "0  Obj -0 Dual inf 49.999999 (1)\n",
      "1  Obj 325\n",
      "Optimal - objective value 325\n",
      "After Postsolve, objective 325, infeasibilities - dual 0 (0), primal 0 (0)\n",
      "Optimal objective 325 - 1 iterations time 0.002, Presolve 0.00\n",
      "Cbc0045I Solution with objective value -325 saved\n"
     ]
    }
   ],
   "source": [
    "status = solve(UC)\n",
    "println(\"Objective value = \", getobjectivevalue(UC))\n",
    "\n",
    "println(\"Actual demand = \", getvalue(d))\n",
    "println(\"Supply = \", getvalue(p))\n",
    "println(\"Commitment flag = \", getvalue(z))\n",
    "println(\"theta = \", getvalue(θ))\n",
    "println(\"flows = \", getvalue(f))"
   ]
  },
  {
   "cell_type": "markdown",
   "metadata": {},
   "source": [
    "## An one-node test case\n",
    "Porting the code from Python"
   ]
  },
  {
   "cell_type": "code",
   "execution_count": null,
   "metadata": {},
   "outputs": [],
   "source": []
  }
 ],
 "metadata": {
  "kernelspec": {
   "display_name": "Julia 0.6.4",
   "language": "julia",
   "name": "julia-0.6"
  },
  "language_info": {
   "file_extension": ".jl",
   "mimetype": "application/julia",
   "name": "julia",
   "version": "0.6.4"
  },
  "toc": {
   "base_numbering": 1,
   "nav_menu": {},
   "number_sections": true,
   "sideBar": true,
   "skip_h1_title": false,
   "title_cell": "Table of Contents",
   "title_sidebar": "Contents",
   "toc_cell": false,
   "toc_position": {},
   "toc_section_display": true,
   "toc_window_display": true
  }
 },
 "nbformat": 4,
 "nbformat_minor": 2
}
