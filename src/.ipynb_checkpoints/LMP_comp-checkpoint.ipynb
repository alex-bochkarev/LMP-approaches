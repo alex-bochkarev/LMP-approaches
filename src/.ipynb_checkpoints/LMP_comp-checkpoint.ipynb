{
 "cells": [
  {
   "cell_type": "markdown",
   "metadata": {
    "toc": true
   },
   "source": [
    "<h1>Table of Contents<span class=\"tocSkip\"></span></h1>\n",
    "<div class=\"toc\"><ul class=\"toc-item\"><li><span><a href=\"#Discussion\" data-toc-modified-id=\"Discussion-1\"><span class=\"toc-item-num\">1&nbsp;&nbsp;</span>Discussion</a></span><ul class=\"toc-item\"><li><span><a href=\"#General-notes\" data-toc-modified-id=\"General-notes-1.1\"><span class=\"toc-item-num\">1.1&nbsp;&nbsp;</span>General notes</a></span></li><li><span><a href=\"#What-is-done-by-the-moment:\" data-toc-modified-id=\"What-is-done-by-the-moment:-1.2\"><span class=\"toc-item-num\">1.2&nbsp;&nbsp;</span>What is <strong>done</strong> by the moment:</a></span></li><li><span><a href=\"#Methodology-related-questions\" data-toc-modified-id=\"Methodology-related-questions-1.3\"><span class=\"toc-item-num\">1.3&nbsp;&nbsp;</span>Methodology-related questions</a></span></li><li><span><a href=\"#Data-related-questions:\" data-toc-modified-id=\"Data-related-questions:-1.4\"><span class=\"toc-item-num\">1.4&nbsp;&nbsp;</span>Data-related questions:</a></span></li></ul></li><li><span><a href=\"#Headers----technical-section\" data-toc-modified-id=\"Headers----technical-section-2\"><span class=\"toc-item-num\">2&nbsp;&nbsp;</span>Headers -- technical section</a></span></li><li><span><a href=\"#A-3-node-test-case\" data-toc-modified-id=\"A-3-node-test-case-3\"><span class=\"toc-item-num\">3&nbsp;&nbsp;</span>A 3-node test case</a></span><ul class=\"toc-item\"><li><span><a href=\"#Case-description\" data-toc-modified-id=\"Case-description-3.1\"><span class=\"toc-item-num\">3.1&nbsp;&nbsp;</span>Case description</a></span></li><li><span><a href=\"#UC-Model-description\" data-toc-modified-id=\"UC-Model-description-3.2\"><span class=\"toc-item-num\">3.2&nbsp;&nbsp;</span>UC Model description</a></span></li><li><span><a href=\"#Model-solution\" data-toc-modified-id=\"Model-solution-3.3\"><span class=\"toc-item-num\">3.3&nbsp;&nbsp;</span>Model solution</a></span></li><li><span><a href=\"#Solution-analysis----prices\" data-toc-modified-id=\"Solution-analysis----prices-3.4\"><span class=\"toc-item-num\">3.4&nbsp;&nbsp;</span>Solution analysis -- prices</a></span></li></ul></li><li><span><a href=\"#An-one-node-test-case\" data-toc-modified-id=\"An-one-node-test-case-4\"><span class=\"toc-item-num\">4&nbsp;&nbsp;</span>An one-node test case</a></span><ul class=\"toc-item\"><li><span><a href=\"#Case-description\" data-toc-modified-id=\"Case-description-4.1\"><span class=\"toc-item-num\">4.1&nbsp;&nbsp;</span>Case description</a></span></li><li><span><a href=\"#Data-structures-preparation\" data-toc-modified-id=\"Data-structures-preparation-4.2\"><span class=\"toc-item-num\">4.2&nbsp;&nbsp;</span>Data structures preparation</a></span></li><li><span><a href=\"#Metrics-and-case-description\" data-toc-modified-id=\"Metrics-and-case-description-4.3\"><span class=\"toc-item-num\">4.3&nbsp;&nbsp;</span>Metrics and case description</a></span></li><li><span><a href=\"#Plain-LMP-case\" data-toc-modified-id=\"Plain-LMP-case-4.4\"><span class=\"toc-item-num\">4.4&nbsp;&nbsp;</span>Plain LMP case</a></span></li></ul></li></ul></div>"
   ]
  },
  {
   "cell_type": "markdown",
   "metadata": {},
   "source": [
    "# Comparison of different approaches to LMP setting"
   ]
  },
  {
   "cell_type": "markdown",
   "metadata": {},
   "source": [
    "## Discussion\n",
    "### General notes\n",
    "- it is more or less clear how to \"unpack\" a network topology\n",
    "- the IEEE 1888 RTS test case is [here](https://www2.ee.washington.edu/research/pstca/pf118/pg_tca118bus.htm). I.e. the [data](https://www2.ee.washington.edu/research/pstca/pf118/ieee118cdf.txt) are available, as well as [short](https://www2.ee.washington.edu/research/pstca/formats/cdf.txt) and [long](https://ieeexplore.ieee.org/document/4075293/) format descriptions. Note that there are some discrepancies between the two, but we'll manage, they are not terrible.\n",
    "\n",
    "### What is **done** by the moment:\n",
    "- a simple [data-parser](./IEEE_CDF_parser.jl), including a helper-function to unpack a Node-incidence matrix;\n",
    "- a simple model for the 3-node case just to test everything works as expected;\n",
    "   \n",
    "### Methodology-related questions\n",
    "\n",
    "Well, how exactly do we proceed?\n",
    "- do we allow for multiple agents in the same node?\n",
    "\n",
    "### Data-related questions:\n",
    "    - how do we cook up the missing data; most importantly, Pmax, Dmax and utilities? I can imagine we can assume for starters that $P_\\max = P_\\text{actual}$ from the data file and the same logic for the demand. Maybe later we'll want to assume it is, say 20% more. What do we do with utilities? Is there any common practice for that? or just ensure it is high enough?\n",
    "    - are we planning to visualize the data somehow? I mean, put numbers on a real network scheme? Is there any standard for that in the field?\n",
    "---"
   ]
  },
  {
   "cell_type": "markdown",
   "metadata": {},
   "source": [
    "## Headers -- technical section"
   ]
  },
  {
   "cell_type": "code",
   "execution_count": 96,
   "metadata": {},
   "outputs": [],
   "source": [
    "using JuMP\n",
    "using Cbc \n",
    "using Clp\n",
    "using DataFrames\n",
    "using DataFramesMeta\n",
    "\n",
    "import IEEE_CDF_parser # my data file parser, includes the NI matrix builder\n"
   ]
  },
  {
   "cell_type": "markdown",
   "metadata": {},
   "source": [
    "## A 3-node test case\n",
    "### Case description"
   ]
  },
  {
   "cell_type": "code",
   "execution_count": 2,
   "metadata": {},
   "outputs": [
    {
     "data": {
      "text/html": [
       "<table class=\"data-frame\"><thead><tr><th></th><th>Arc</th><th>TapBusNo</th><th>ZBusNo</th><th>x</th></tr></thead><tbody><tr><th>1</th><td>a</td><td>1</td><td>2</td><td>0.1</td></tr><tr><th>2</th><td>b</td><td>2</td><td>3</td><td>0.1</td></tr><tr><th>3</th><td>c</td><td>1</td><td>3</td><td>0.1</td></tr></tbody></table>"
      ],
      "text/plain": [
       "3×4 DataFrames.DataFrame\n",
       "│ Row │ Arc │ TapBusNo │ ZBusNo │ x   │\n",
       "├─────┼─────┼──────────┼────────┼─────┤\n",
       "│ 1   │ a   │ 1        │ 2      │ 0.1 │\n",
       "│ 2   │ b   │ 2        │ 3      │ 0.1 │\n",
       "│ 3   │ c   │ 1        │ 3      │ 0.1 │"
      ]
     },
     "execution_count": 2,
     "metadata": {},
     "output_type": "execute_result"
    }
   ],
   "source": [
    "# Cook up come simple test data\n",
    "# three-bus system\n",
    "buses = DataFrame(BusNo = [1,2,3], # bus number\n",
    "                  Pmin = [0,0,0], # min supply\n",
    "                  Pmax = [10,5,0], # max supply\n",
    "                  Dmax = [0,0,7], # max demand\n",
    "                  b = [0,0,50], # consumers' utility per kWh\n",
    "                  C = [5,3,0], # costs per kWh\n",
    "                  cSU = [0,0,0]) # startup costs\n",
    "\n",
    "branches = DataFrame(Arc = [\"a\",\"b\",\"c\"], TapBusNo = [1, 2, 1], ZBusNo = [2,3,3], x=[0.1,0.1,0.1])\n"
   ]
  },
  {
   "cell_type": "markdown",
   "metadata": {},
   "source": [
    "Test case:\n",
    "![A simple three-node examplez](img/3node.png)"
   ]
  },
  {
   "cell_type": "code",
   "execution_count": 3,
   "metadata": {},
   "outputs": [
    {
     "data": {
      "text/plain": [
       "3×3 Array{Float64,2}:\n",
       " -1.0   0.0  -1.0\n",
       "  1.0  -1.0   0.0\n",
       "  0.0   1.0   1.0"
      ]
     },
     "execution_count": 3,
     "metadata": {},
     "output_type": "execute_result"
    }
   ],
   "source": [
    "# Make a node-arc incidence matrix\n",
    "\n",
    "NIM = IEEE_CDF_parser.makeNIMatrix(size(buses,1), branches)"
   ]
  },
  {
   "cell_type": "markdown",
   "metadata": {},
   "source": [
    "### UC Model description"
   ]
  },
  {
   "cell_type": "code",
   "execution_count": 4,
   "metadata": {},
   "outputs": [
    {
     "data": {
      "text/latex": [
       "$$ \\begin{alignat*}{1}\\max\\quad & 50 d_{3} - 5 p_{1} - 3 p_{2}\\\\\n",
       "\\text{Subject to} \\quad & p_{1} - f_{1} - f_{3} - d_{1} = 0\\\\\n",
       " & p_{1} \\geq 0\\\\\n",
       " & p_{1} - 10 z_{1} \\leq 0\\\\\n",
       " & d_{1} \\leq 0\\\\\n",
       " & p_{2} + f_{1} - f_{2} - d_{2} = 0\\\\\n",
       " & p_{2} \\geq 0\\\\\n",
       " & p_{2} - 5 z_{2} \\leq 0\\\\\n",
       " & d_{2} \\leq 0\\\\\n",
       " & p_{3} + f_{2} + f_{3} - d_{3} = 0\\\\\n",
       " & p_{3} \\geq 0\\\\\n",
       " & p_{3} \\leq 0\\\\\n",
       " & d_{3} \\leq 7\\\\\n",
       " & f_{1} - 10 θ_{1} + 10 θ_{2} = 0\\\\\n",
       " & f_{2} - 10 θ_{2} + 10 θ_{3} = 0\\\\\n",
       " & f_{3} - 10 θ_{1} + 10 θ_{3} = 0\\\\\n",
       " & θ_{1} = 0\\\\\n",
       " & -100 \\leq f_{l} \\leq 100 \\quad\\forall l \\in \\{1,2,3\\}\\\\\n",
       " & 0 \\leq p_{i} \\leq 10 \\quad\\forall i \\in \\{1,2,3\\}\\\\\n",
       " & 0 \\leq d_{i} \\leq 7 \\quad\\forall i \\in \\{1,2,3\\}\\\\\n",
       " & -6.283185307179586 \\leq θ_{i} \\leq 6.283185307179586 \\quad\\forall i \\in \\{1,2,3\\}\\\\\n",
       " & z_{i} \\in \\{0,1\\} \\quad\\forall i \\in \\{1,2,3\\}\\\\\n",
       "\\end{alignat*}\n",
       " $$"
      ],
      "text/plain": [
       "Maximization problem with:\n",
       " * 16 linear constraints\n",
       " * 15 variables: 3 binary\n",
       "Solver is CbcMathProg"
      ]
     },
     "execution_count": 4,
     "metadata": {},
     "output_type": "execute_result"
    }
   ],
   "source": [
    "## ================== OPF model definition =====================\n",
    "UC = JuMP.Model(solver=CbcSolver())\n",
    "Nbus = size(buses,1)\n",
    "Nbranches = size(branches,1)\n",
    "\n",
    "# constants\n",
    "const Fmax = 100\n",
    "Pmax = maximum(buses[:,:Pmax])\n",
    "Dmax = maximum(buses[:,:Dmax])\n",
    "\n",
    "@variable(UC, -Fmax <= f[l=1:Nbranches] <= Fmax) # flow through each branch l \\in Branches\n",
    "@variable(UC, 0 <= p[i=1:Nbus] <= Pmax, Cont) # production\n",
    "@variable(UC, 0<= d[i=1:Nbus] <= Dmax) # consumption\n",
    "@variable(UC, -2*pi <= θ[i=1:Nbus] <= 2*pi) # phase angle\n",
    "@variable(UC, z[i=1:Nbus], Bin) # generators' commitment (binary)\n",
    "\n",
    "@constraintref flows[1:Nbus]\n",
    "\n",
    "for i=1:Nbus\n",
    "    flows[i] = @constraint(UC, p[i] + sum(NIM[i,l] * f[l] for l=1:Nbranches) == d[i]) # flow constraints\n",
    "    @constraint(UC, p[i] >= z[i]*buses[i,:Pmin]) # min production\n",
    "    @constraint(UC, p[i] <= z[i]*buses[i,:Pmax]) # max production\n",
    "\n",
    "    @constraint(UC, d[i] <= buses[i, :Dmax])\n",
    "end\n",
    "\n",
    "for i=1:Nbranches\n",
    "    @constraint(UC, f[i] == (1/branches[i,:x])*sum(-NIM[j,i]*θ[j] for j=1:Nbus)) # line flow expression, DC-approximation\n",
    "end\n",
    "\n",
    "@constraint(UC, θ[1] == 0) # slack node\n",
    "\n",
    "\n",
    "@objective(UC, :Max, sum(buses[i,:b]*d[i] for i=1:Nbus) - sum(buses[j,:C]*p[j]+buses[j,:cSU]*z[j] for j=1:Nbus))\n",
    "\n",
    "UC"
   ]
  },
  {
   "cell_type": "markdown",
   "metadata": {},
   "source": [
    "### Model solution"
   ]
  },
  {
   "cell_type": "code",
   "execution_count": 5,
   "metadata": {},
   "outputs": [
    {
     "name": "stdout",
     "output_type": "stream",
     "text": [
      "Objective value = 325.0\n",
      "Actual demand = [0.0, 0.0, 7.0]\n",
      "Supply = [2.0, 5.0, 0.0]\n",
      "Commitment flag = [1.0, 1.0, 0.0]\n",
      "theta = [0.0, 0.1, -0.3]\n",
      "flows = [-1.0, 4.0, 3.0]\n"
     ]
    }
   ],
   "source": [
    "status = solve(UC)\n",
    "println(\"Objective value = \", getobjectivevalue(UC))\n",
    "\n",
    "println(\"Actual demand = \", getvalue(d))\n",
    "println(\"Supply = \", getvalue(p))\n",
    "println(\"Commitment flag = \", getvalue(z))\n",
    "println(\"theta = \", getvalue(θ))\n",
    "println(\"flows = \", getvalue(f))"
   ]
  },
  {
   "cell_type": "markdown",
   "metadata": {},
   "source": [
    "### Solution analysis -- prices\n",
    "Now, let us fix the optimal commitments ($z$ 's) -- relax the integrality constraint and obtain prices in nodes."
   ]
  },
  {
   "cell_type": "code",
   "execution_count": 6,
   "metadata": {},
   "outputs": [
    {
     "data": {
      "text/plain": [
       "3-element Array{Float64,1}:\n",
       " 1.0\n",
       " 1.0\n",
       " 0.0"
      ]
     },
     "execution_count": 6,
     "metadata": {},
     "output_type": "execute_result"
    }
   ],
   "source": [
    "z_opt = getvalue(z)"
   ]
  },
  {
   "cell_type": "code",
   "execution_count": 7,
   "metadata": {
    "scrolled": true
   },
   "outputs": [
    {
     "data": {
      "text/latex": [
       "$$ \\begin{alignat*}{1}\\max\\quad & 50 d_{3} - 5 p_{1} - 3 p_{2}\\\\\n",
       "\\text{Subject to} \\quad & p_{1} - f_{1} - f_{3} - d_{1} = 0\\\\\n",
       " & p_{1} \\geq 0\\\\\n",
       " & p_{1} - 10 z_{1} \\leq 0\\\\\n",
       " & d_{1} \\leq 0\\\\\n",
       " & z_{1} = 1\\\\\n",
       " & p_{2} + f_{1} - f_{2} - d_{2} = 0\\\\\n",
       " & p_{2} \\geq 0\\\\\n",
       " & p_{2} - 5 z_{2} \\leq 0\\\\\n",
       " & d_{2} \\leq 0\\\\\n",
       " & z_{2} = 1\\\\\n",
       " & p_{3} + f_{2} + f_{3} - d_{3} = 0\\\\\n",
       " & p_{3} \\geq 0\\\\\n",
       " & p_{3} \\leq 0\\\\\n",
       " & d_{3} \\leq 7\\\\\n",
       " & z_{3} = 0\\\\\n",
       " & f_{1} - 10 θ_{1} + 10 θ_{2} = 0\\\\\n",
       " & f_{2} - 10 θ_{2} + 10 θ_{3} = 0\\\\\n",
       " & f_{3} - 10 θ_{1} + 10 θ_{3} = 0\\\\\n",
       " & θ_{1} = 0\\\\\n",
       " & -100 \\leq f_{l} \\leq 100 \\quad\\forall l \\in \\{1,2,3\\}\\\\\n",
       " & 0 \\leq p_{i} \\leq 10 \\quad\\forall i \\in \\{1,2,3\\}\\\\\n",
       " & 0 \\leq d_{i} \\leq 7 \\quad\\forall i \\in \\{1,2,3\\}\\\\\n",
       " & -6.283185307179586 \\leq θ_{i} \\leq 6.283185307179586 \\quad\\forall i \\in \\{1,2,3\\}\\\\\n",
       " & 0 \\leq z_{i} \\leq 1 \\quad\\forall i \\in \\{1,2,3\\}\\\\\n",
       "\\end{alignat*}\n",
       " $$"
      ],
      "text/plain": [
       "Maximization problem with:\n",
       " * 19 linear constraints\n",
       " * 15 variables\n",
       "Solver is ClpMathProg"
      ]
     },
     "execution_count": 7,
     "metadata": {},
     "output_type": "execute_result"
    }
   ],
   "source": [
    "## ================== OPF model definition =====================\n",
    "UClp = JuMP.Model(solver=ClpSolver())\n",
    "Nbus = size(buses,1)\n",
    "Nbranches = size(branches,1)\n",
    "\n",
    "# constants\n",
    "const Fmax = 100\n",
    "Pmax = maximum(buses[:,:Pmax])\n",
    "Dmax = maximum(buses[:,:Dmax])\n",
    "\n",
    "@variable(UClp, -Fmax <= f[l=1:Nbranches] <= Fmax) # flow through each branch l \\in Branches\n",
    "@variable(UClp, 0 <= p[i=1:Nbus] <= Pmax, Cont) # production\n",
    "@variable(UClp, 0<= d[i=1:Nbus] <= Dmax) # consumption\n",
    "@variable(UClp, -2*pi <= θ[i=1:Nbus] <= 2*pi) # phase angle\n",
    "@variable(UClp, 0<= z[i=1:Nbus]<=1) # generators' commitment (not binary anymore)\n",
    "\n",
    "@constraintref flows[1:Nbus]\n",
    "\n",
    "for i=1:Nbus\n",
    "    flows[i] = @constraint(UClp, p[i] + sum(NIM[i,l] * f[l] for l=1:Nbranches) == d[i]) # flow constraints\n",
    "    @constraint(UClp, p[i] >= z[i]*buses[i,:Pmin]) # min production\n",
    "    @constraint(UClp, p[i] <= z[i]*buses[i,:Pmax]) # max production\n",
    "    @constraint(UClp, d[i] <= buses[i, :Dmax])\n",
    "    @constraint(UClp, z[i] == z_opt[i])\n",
    "end\n",
    "\n",
    "for i=1:Nbranches\n",
    "    @constraint(UClp, f[i] == (1/branches[i,:x])*sum(-NIM[j,i]*θ[j] for j=1:Nbus)) # line flow expression, DC-approximation\n",
    "end\n",
    "\n",
    "@constraint(UClp, θ[1] == 0) # slack node\n",
    "\n",
    "\n",
    "@objective(UClp, :Max, sum(buses[i,:b]*d[i] for i=1:Nbus) - sum(buses[j,:C]*p[j]+buses[j,:cSU]*z[j] for j=1:Nbus))\n",
    "\n",
    "UClp"
   ]
  },
  {
   "cell_type": "code",
   "execution_count": 9,
   "metadata": {},
   "outputs": [
    {
     "name": "stdout",
     "output_type": "stream",
     "text": [
      "Objective value = 325.0\n",
      "Actual demand = [0.0, 0.0, 7.0]\n",
      "Supply = [2.0, 5.0, 0.0]\n",
      "Commitment flag = [1.0, 1.0, 0.0]\n",
      "theta = [-0.0, 0.1, -0.3]\n",
      "flows = [-1.0, 4.0, 3.0]\n",
      "Prices = [5.0, 5.0, 5.0]\n"
     ]
    },
    {
     "name": "stderr",
     "output_type": "stream",
     "text": [
      "\u001b[1m\u001b[33mWARNING: \u001b[39m\u001b[22m\u001b[33mSolver does not appear to support providing initial feasible solutions.\u001b[39m\n"
     ]
    }
   ],
   "source": [
    "status = solve(UClp)\n",
    "println(\"Objective value = \", getobjectivevalue(UC))\n",
    "\n",
    "println(\"Actual demand = \", getvalue(d))\n",
    "println(\"Supply = \", getvalue(p))\n",
    "println(\"Commitment flag = \", getvalue(z))\n",
    "println(\"theta = \", getvalue(θ))\n",
    "println(\"flows = \", getvalue(f))\n",
    "\n",
    "println(\"Prices = \", -getdual(flows))"
   ]
  },
  {
   "cell_type": "markdown",
   "metadata": {},
   "source": [
    "## An one-node test case\n",
    "Porting the code from Python"
   ]
  },
  {
   "cell_type": "markdown",
   "metadata": {},
   "source": [
    "### Case description"
   ]
  },
  {
   "cell_type": "code",
   "execution_count": 58,
   "metadata": {},
   "outputs": [],
   "source": [
    "# Generators\n",
    "Gnames = [\"A\",\"B\"];\n",
    "cSU = [500;500];\n",
    "Pmin = [0;10]; \n",
    "Pmax = [40;200];\n",
    "c = [40,60];\n",
    "Ngen = size(Gnames,1)\n",
    "\n",
    "# Consumers\n",
    "Cnames = [\"1\",\"2\"];\n",
    "D = [0,1]; \n",
    "b = [100,61];\n",
    "Dmax = [100,30];\n",
    "Ncons = size(Dnames,1);"
   ]
  },
  {
   "cell_type": "markdown",
   "metadata": {},
   "source": [
    "### Data structures"
   ]
  },
  {
   "cell_type": "code",
   "execution_count": 85,
   "metadata": {},
   "outputs": [
    {
     "data": {
      "text/html": [
       "<table class=\"data-frame\"><thead><tr><th></th><th>model</th><th>aType</th><th>aName</th><th>vol</th><th>price</th><th>lumpSumToAgent</th><th>Profit</th></tr></thead><tbody></tbody></table>"
      ],
      "text/plain": [
       "0×7 DataFrames.DataFrame\n"
      ]
     },
     "execution_count": 85,
     "metadata": {},
     "output_type": "execute_result"
    }
   ],
   "source": [
    "macro fmtDF()\n",
    "    return :( DataFrame(model=String[],  # model name\n",
    "                        aType = String[], # agent type G / C\n",
    "                        aName = String[], # agent name\n",
    "                        vol = Float64[],  # volumes, in kWh (production or consumption)\n",
    "                        price = Float64[],# price per kWh (if paid / received)\n",
    "                        lumpSumToAgent = Float64[],  # lump sum payment to the agent, $\n",
    "                        Profit = Float64[])) # profit (utility) of the agent, $\n",
    "end\n",
    "modelOutputs = @fmtDF()"
   ]
  },
  {
   "cell_type": "markdown",
   "metadata": {},
   "source": [
    "### Metrics and case description"
   ]
  },
  {
   "cell_type": "code",
   "execution_count": 138,
   "metadata": {},
   "outputs": [
    {
     "data": {
      "text/plain": [
       "describeCase (generic function with 1 method)"
      ]
     },
     "execution_count": 138,
     "metadata": {},
     "output_type": "execute_result"
    }
   ],
   "source": [
    "## some helper functions to produce summary statistics on the case will be there\n",
    "function describeCase(modelName, modelOut, b,c,cSU)\n",
    "    Consumers = @where(modelOut, .|(:aType .== \"C\"));\n",
    "    Generators = @where(modelOut, .|(:aType .== \"G\"));\n",
    "    \n",
    "    PaidByC = sum(Consumers[:vol] .* Consumers[:price] - Consumers[:lumpSumToAgent])\n",
    "    PaidToG = sum(Generators[:vol] .* Generators[:price] + Generators[:lumpSumToAgent])\n",
    "    \n",
    "    FinBalance = PaidByC - PaidToG;\n",
    "    \n",
    "    Utility = sum(Consumers[:vol] .* b)\n",
    "    \n",
    "    Costs = sum(Generators[:vol] .* c)\n",
    "    for i=1:size(Generators,1)\n",
    "        Costs += (Generators[:vol][i] > 0 ? cSU[i] : 0)\n",
    "    end\n",
    "   \n",
    "    Surplus = Utility - Costs;\n",
    "    \n",
    "    return (DataFrame(Approach=modelName, Balance = FinBalance, PaidByC = PaidByC, PaidToG = PaidToG, Surplus=Surplus, Utility=Utility, Costs=Costs));\n",
    "end"
   ]
  },
  {
   "cell_type": "code",
   "execution_count": 139,
   "metadata": {},
   "outputs": [
    {
     "data": {
      "text/html": [
       "<table class=\"data-frame\"><thead><tr><th></th><th>Approach</th><th>Balance</th><th>PaidByC</th><th>PaidToG</th><th>Surplus</th><th>Utility</th><th>Costs</th></tr></thead><tbody><tr><th>1</th><td>Debug</td><td>0.0</td><td>7800.0</td><td>7800.0</td><td>3830.0</td><td>11830.0</td><td>8000.0</td></tr></tbody></table>"
      ],
      "text/plain": [
       "1×7 DataFrames.DataFrame\n",
       "│ Row │ Approach │ Balance │ PaidByC │ PaidToG │ Surplus │ Utility │ Costs  │\n",
       "├─────┼──────────┼─────────┼─────────┼─────────┼─────────┼─────────┼────────┤\n",
       "│ 1   │ Debug    │ 0.0     │ 7800.0  │ 7800.0  │ 3830.0  │ 11830.0 │ 8000.0 │"
      ]
     },
     "execution_count": 139,
     "metadata": {},
     "output_type": "execute_result"
    }
   ],
   "source": [
    "describeCase(\"Debug\",out,b,c,cSU)"
   ]
  },
  {
   "cell_type": "markdown",
   "metadata": {},
   "source": [
    "### Plain LMP case"
   ]
  },
  {
   "cell_type": "code",
   "execution_count": 86,
   "metadata": {},
   "outputs": [
    {
     "data": {
      "text/latex": [
       "$$ \\begin{alignat*}{1}\\max\\quad & 100 d_{1} + 61 d_{2} - 40 p_{1} - 500 z_{1} - 60 p_{2} - 500 z_{2}\\\\\n",
       "\\text{Subject to} \\quad & p_{1} \\geq 0\\\\\n",
       " & p_{1} - 40 z_{1} \\leq 0\\\\\n",
       " & p_{2} - 10 z_{2} \\geq 0\\\\\n",
       " & p_{2} - 200 z_{2} \\leq 0\\\\\n",
       " & d_{1} \\leq 100\\\\\n",
       " & d_{2} \\leq 30\\\\\n",
       " & p_{1} + p_{2} - d_{1} - d_{2} = 0\\\\\n",
       " & p_{i} \\geq 0 \\quad\\forall i \\in \\{1,2\\}\\\\\n",
       " & z_{i} \\in \\{0,1\\} \\quad\\forall i \\in \\{1,2\\}\\\\\n",
       " & d_{i} \\geq 0 \\quad\\forall i \\in \\{1,2\\}\\\\\n",
       "\\end{alignat*}\n",
       " $$"
      ],
      "text/plain": [
       "Maximization problem with:\n",
       " * 7 linear constraints\n",
       " * 6 variables: 2 binary\n",
       "Solver is CbcMathProg"
      ]
     },
     "execution_count": 86,
     "metadata": {},
     "output_type": "execute_result"
    }
   ],
   "source": [
    "## ================== OPF model definition =====================\n",
    "UC_plain = JuMP.Model(solver=CbcSolver())\n",
    "\n",
    "@variable(UC_plain, p[i=1:Ngen]>=0) # production\n",
    "@variable(UC_plain, 0<= z[i=1:Ngen]<=1,Bin) # commitment \n",
    "\n",
    "@variable(UC_plain, d[i=1:Ncons] >= 0, Cont) # consumption\n",
    "\n",
    "for i=1:Ngen\n",
    "    @constraint(UC_plain, p[i] >= Pmin[i]*z[i]) # min production\n",
    "    @constraint(UC_plain, p[i] <= Pmax[i]*z[i]) # max production\n",
    "end\n",
    "\n",
    "for j=1:Ncons\n",
    "    @constraint(UC_plain, d[j] <= Dmax[j])\n",
    "end\n",
    "\n",
    "@constraint(UC_plain, Balance, sum(p[i] for i=1:Ngen) == sum(d[j] for j=1:Ncons))\n",
    "\n",
    "@objective(UC_plain, :Max, sum(b[i]*d[i] for i=1:Ncons) - sum(c[j]*p[j]+cSU[j]*z[j] for j=1:Ngen))\n",
    "\n",
    "UC_plain"
   ]
  },
  {
   "cell_type": "code",
   "execution_count": 87,
   "metadata": {},
   "outputs": [
    {
     "data": {
      "text/plain": [
       ":Optimal"
      ]
     },
     "execution_count": 87,
     "metadata": {},
     "output_type": "execute_result"
    }
   ],
   "source": [
    "status = solve(UC_plain)"
   ]
  },
  {
   "cell_type": "code",
   "execution_count": 88,
   "metadata": {},
   "outputs": [
    {
     "data": {
      "text/latex": [
       "$$ \\begin{alignat*}{1}\\max\\quad & 100 d_{1} + 61 d_{2} - 40 p_{1} - 500 z_{1} - 60 p_{2} - 500 z_{2}\\\\\n",
       "\\text{Subject to} \\quad & p_{1} \\geq 0\\\\\n",
       " & p_{1} - 40 z_{1} \\leq 0\\\\\n",
       " & z_{1} = 1\\\\\n",
       " & p_{2} - 10 z_{2} \\geq 0\\\\\n",
       " & p_{2} - 200 z_{2} \\leq 0\\\\\n",
       " & z_{2} = 1\\\\\n",
       " & d_{1} \\leq 100\\\\\n",
       " & d_{2} \\leq 30\\\\\n",
       " & p_{1} + p_{2} - d_{1} - d_{2} = 0\\\\\n",
       " & p_{i} \\geq 0 \\quad\\forall i \\in \\{1,2\\}\\\\\n",
       " & 0 \\leq z_{i} \\leq 1 \\quad\\forall i \\in \\{1,2\\}\\\\\n",
       " & d_{i} \\geq 0 \\quad\\forall i \\in \\{1,2\\}\\\\\n",
       "\\end{alignat*}\n",
       " $$"
      ],
      "text/plain": [
       "Maximization problem with:\n",
       " * 9 linear constraints\n",
       " * 6 variables\n",
       "Solver is ClpMathProg"
      ]
     },
     "execution_count": 88,
     "metadata": {},
     "output_type": "execute_result"
    }
   ],
   "source": [
    "z_opt = getvalue(z)\n",
    "\n",
    "UC_plain_rel = JuMP.Model(solver=ClpSolver())\n",
    "\n",
    "@variable(UC_plain_rel, p[i=1:Ngen]>=0) # production\n",
    "@variable(UC_plain_rel, 0<= z[i=1:Ngen]<=1,Cont) # commitment \n",
    "\n",
    "@variable(UC_plain_rel, d[i=1:Ncons] >= 0, Cont) # consumption\n",
    "\n",
    "for i=1:Ngen\n",
    "    @constraint(UC_plain_rel, p[i] >= Pmin[i]*z[i]) # min production\n",
    "    @constraint(UC_plain_rel, p[i] <= Pmax[i]*z[i]) # max production\n",
    "    @constraint(UC_plain_rel, z[i] == z_opt[i])\n",
    "end\n",
    "\n",
    "for j=1:Ncons\n",
    "    @constraint(UC_plain_rel, d[j] <= Dmax[j])\n",
    "end\n",
    "\n",
    "@constraint(UC_plain_rel, Balance, sum(p[i] for i=1:Ngen) == sum(d[j] for j=1:Ncons))\n",
    "\n",
    "@objective(UC_plain_rel, :Max, sum(b[i]*d[i] for i=1:Ncons) - sum(c[j]*p[j]+cSU[j]*z[j] for j=1:Ngen))\n",
    "\n",
    "status = solve(UC_plain_rel)\n",
    "UC_plain_rel"
   ]
  },
  {
   "cell_type": "code",
   "execution_count": 93,
   "metadata": {},
   "outputs": [
    {
     "data": {
      "text/html": [
       "<table class=\"data-frame\"><thead><tr><th></th><th>model</th><th>aType</th><th>aName</th><th>vol</th><th>price</th><th>lumpSumToAgent</th><th>Profit</th></tr></thead><tbody><tr><th>1</th><td>Plain LMP</td><td>G</td><td>A</td><td>40.0</td><td>60.0</td><td>0.0</td><td>300.0</td></tr><tr><th>2</th><td>Plain LMP</td><td>G</td><td>B</td><td>90.0</td><td>60.0</td><td>0.0</td><td>-500.0</td></tr><tr><th>3</th><td>Plain LMP</td><td>C</td><td>1</td><td>100.0</td><td>60.0</td><td>0.0</td><td>4000.0</td></tr><tr><th>4</th><td>Plain LMP</td><td>C</td><td>2</td><td>30.0</td><td>60.0</td><td>0.0</td><td>30.0</td></tr></tbody></table>"
      ],
      "text/plain": [
       "4×7 DataFrames.DataFrame\n",
       "│ Row │ model     │ aType │ aName │ vol   │ price │ lumpSumToAgent │ Profit │\n",
       "├─────┼───────────┼───────┼───────┼───────┼───────┼────────────────┼────────┤\n",
       "│ 1   │ Plain LMP │ G     │ A     │ 40.0  │ 60.0  │ 0.0            │ 300.0  │\n",
       "│ 2   │ Plain LMP │ G     │ B     │ 90.0  │ 60.0  │ 0.0            │ -500.0 │\n",
       "│ 3   │ Plain LMP │ C     │ 1     │ 100.0 │ 60.0  │ 0.0            │ 4000.0 │\n",
       "│ 4   │ Plain LMP │ C     │ 2     │ 30.0  │ 60.0  │ 0.0            │ 30.0   │"
      ]
     },
     "execution_count": 93,
     "metadata": {},
     "output_type": "execute_result"
    }
   ],
   "source": [
    "out = @fmtDF\n",
    "\n",
    "price = -getdual(Balance)\n",
    "\n",
    "for i=1:Ngen\n",
    "            push!(out,[\"Plain LMP\",\n",
    "            \"G\",\n",
    "            Gnames[i],\n",
    "            getvalue(p[i]),\n",
    "            price,\n",
    "            0,\n",
    "            getvalue(p[i])*(price - c[i]) - cSU[i]*getvalue(z[i])\n",
    "            ])\n",
    "end\n",
    "\n",
    "for i=1:Ncons\n",
    "    push!(out,[\n",
    "            \"Plain LMP\",\n",
    "            \"C\",\n",
    "            Cnames[i],\n",
    "            getvalue(d[i]),\n",
    "            price,\n",
    "            0,\n",
    "            getvalue(d[i])*(b[i] - price)\n",
    "            ])\n",
    "end\n",
    "\n",
    "out"
   ]
  },
  {
   "cell_type": "code",
   "execution_count": 141,
   "metadata": {},
   "outputs": [
    {
     "data": {
      "text/html": [
       "<table class=\"data-frame\"><thead><tr><th></th><th>model</th><th>aType</th><th>aName</th><th>vol</th><th>price</th><th>lumpSumToAgent</th><th>Profit</th></tr></thead><tbody><tr><th>1</th><td>Plain LMP</td><td>G</td><td>A</td><td>40.0</td><td>60.0</td><td>0.0</td><td>300.0</td></tr><tr><th>2</th><td>Plain LMP</td><td>G</td><td>B</td><td>90.0</td><td>60.0</td><td>0.0</td><td>-500.0</td></tr><tr><th>3</th><td>Plain LMP</td><td>C</td><td>1</td><td>100.0</td><td>60.0</td><td>0.0</td><td>4000.0</td></tr><tr><th>4</th><td>Plain LMP</td><td>C</td><td>2</td><td>30.0</td><td>60.0</td><td>0.0</td><td>30.0</td></tr></tbody></table>"
      ],
      "text/plain": [
       "4×7 DataFrames.DataFrame\n",
       "│ Row │ model     │ aType │ aName │ vol   │ price │ lumpSumToAgent │ Profit │\n",
       "├─────┼───────────┼───────┼───────┼───────┼───────┼────────────────┼────────┤\n",
       "│ 1   │ Plain LMP │ G     │ A     │ 40.0  │ 60.0  │ 0.0            │ 300.0  │\n",
       "│ 2   │ Plain LMP │ G     │ B     │ 90.0  │ 60.0  │ 0.0            │ -500.0 │\n",
       "│ 3   │ Plain LMP │ C     │ 1     │ 100.0 │ 60.0  │ 0.0            │ 4000.0 │\n",
       "│ 4   │ Plain LMP │ C     │ 2     │ 30.0  │ 60.0  │ 0.0            │ 30.0   │"
      ]
     },
     "execution_count": 141,
     "metadata": {},
     "output_type": "execute_result"
    }
   ],
   "source": [
    "modelOutputs = out"
   ]
  },
  {
   "cell_type": "code",
   "execution_count": 140,
   "metadata": {},
   "outputs": [
    {
     "data": {
      "text/html": [
       "<table class=\"data-frame\"><thead><tr><th></th><th>Approach</th><th>Balance</th><th>PaidByC</th><th>PaidToG</th><th>Surplus</th><th>Utility</th><th>Costs</th></tr></thead><tbody><tr><th>1</th><td>Plain LMP</td><td>0.0</td><td>7800.0</td><td>7800.0</td><td>3830.0</td><td>11830.0</td><td>8000.0</td></tr></tbody></table>"
      ],
      "text/plain": [
       "1×7 DataFrames.DataFrame\n",
       "│ Row │ Approach  │ Balance │ PaidByC │ PaidToG │ Surplus │ Utility │ Costs  │\n",
       "├─────┼───────────┼─────────┼─────────┼─────────┼─────────┼─────────┼────────┤\n",
       "│ 1   │ Plain LMP │ 0.0     │ 7800.0  │ 7800.0  │ 3830.0  │ 11830.0 │ 8000.0 │"
      ]
     },
     "execution_count": 140,
     "metadata": {},
     "output_type": "execute_result"
    }
   ],
   "source": [
    "modelMetrics = describeCase(\"Plain LMP\", out,b,c,cSU)"
   ]
  }
 ],
 "metadata": {
  "kernelspec": {
   "display_name": "Julia 0.6.4",
   "language": "julia",
   "name": "julia-0.6"
  },
  "language_info": {
   "file_extension": ".jl",
   "mimetype": "application/julia",
   "name": "julia",
   "version": "0.6.4"
  },
  "toc": {
   "base_numbering": 1,
   "nav_menu": {},
   "number_sections": true,
   "sideBar": true,
   "skip_h1_title": true,
   "title_cell": "Table of Contents",
   "title_sidebar": "Contents",
   "toc_cell": true,
   "toc_position": {},
   "toc_section_display": true,
   "toc_window_display": true
  }
 },
 "nbformat": 4,
 "nbformat_minor": 2
}
